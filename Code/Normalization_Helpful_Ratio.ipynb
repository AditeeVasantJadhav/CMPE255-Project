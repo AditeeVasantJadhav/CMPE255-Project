{
 "cells": [
  {
   "cell_type": "code",
   "execution_count": 1,
   "metadata": {},
   "outputs": [],
   "source": [
    "import pandas as pd\n",
    "import numpy as np"
   ]
  },
  {
   "cell_type": "code",
   "execution_count": 2,
   "metadata": {},
   "outputs": [
    {
     "name": "stderr",
     "output_type": "stream",
     "text": [
      "C:\\Users\\Pranav\\Anaconda3\\lib\\site-packages\\IPython\\core\\interactiveshell.py:3020: DtypeWarning: Columns (2) have mixed types.Specify dtype option on import or set low_memory=False.\n",
      "  interactivity=interactivity, compiler=compiler, result=result)\n"
     ]
    }
   ],
   "source": [
    "########################################################################################################\n",
    "# Read dataset obtained from previous step where semantic scores are calculated\n",
    "########################################################################################################\n",
    "toyData=pd.read_csv(\"Toys_and_Games.csv\");"
   ]
  },
  {
   "cell_type": "code",
   "execution_count": 4,
   "metadata": {},
   "outputs": [
    {
     "data": {
      "text/html": [
       "<div>\n",
       "<style scoped>\n",
       "    .dataframe tbody tr th:only-of-type {\n",
       "        vertical-align: middle;\n",
       "    }\n",
       "\n",
       "    .dataframe tbody tr th {\n",
       "        vertical-align: top;\n",
       "    }\n",
       "\n",
       "    .dataframe thead th {\n",
       "        text-align: right;\n",
       "    }\n",
       "</style>\n",
       "<table border=\"1\" class=\"dataframe\">\n",
       "  <thead>\n",
       "    <tr style=\"text-align: right;\">\n",
       "      <th></th>\n",
       "      <th>asin</th>\n",
       "      <th>helpful</th>\n",
       "      <th>overall</th>\n",
       "      <th>reviewText</th>\n",
       "      <th>reviewTime</th>\n",
       "      <th>reviewerID</th>\n",
       "      <th>PreProcessed_reviewText</th>\n",
       "      <th>subjectivity_score</th>\n",
       "      <th>flesch_index</th>\n",
       "      <th>polarity_score</th>\n",
       "      <th>entropy_score</th>\n",
       "      <th>DaleChall_Index</th>\n",
       "      <th>helpful_ratio</th>\n",
       "      <th>lex_diversity</th>\n",
       "      <th>normalized_Flesch_Index</th>\n",
       "      <th>normalized_polarity</th>\n",
       "      <th>normalized_entropy_score</th>\n",
       "      <th>normalized_DaleChall_Index</th>\n",
       "    </tr>\n",
       "  </thead>\n",
       "  <tbody>\n",
       "    <tr>\n",
       "      <th>0</th>\n",
       "      <td>439893577</td>\n",
       "      <td>[1, 1]</td>\n",
       "      <td>4</td>\n",
       "      <td>Love the magnet easel... great for moving to d...</td>\n",
       "      <td>03 28, 2014</td>\n",
       "      <td>A8R62G708TSCM</td>\n",
       "      <td>love the magnet easel great for moving to diff...</td>\n",
       "      <td>0.650000</td>\n",
       "      <td>8.3</td>\n",
       "      <td>0.433333</td>\n",
       "      <td>4.459432</td>\n",
       "      <td>7.588870</td>\n",
       "      <td>0.750000</td>\n",
       "      <td>1.000000</td>\n",
       "      <td>0.002016</td>\n",
       "      <td>0.685185</td>\n",
       "      <td>0.492417</td>\n",
       "      <td>0.213488</td>\n",
       "    </tr>\n",
       "    <tr>\n",
       "      <th>1</th>\n",
       "      <td>439893577</td>\n",
       "      <td>[1, 1]</td>\n",
       "      <td>5</td>\n",
       "      <td>Both sides are magnetic.  A real plus when you...</td>\n",
       "      <td>01 28, 2013</td>\n",
       "      <td>A21KH420DK0ICA</td>\n",
       "      <td>both sides are magnetic  a real plus when your...</td>\n",
       "      <td>0.450000</td>\n",
       "      <td>29.4</td>\n",
       "      <td>0.333333</td>\n",
       "      <td>5.497670</td>\n",
       "      <td>6.688048</td>\n",
       "      <td>0.200000</td>\n",
       "      <td>0.684211</td>\n",
       "      <td>0.011906</td>\n",
       "      <td>0.629630</td>\n",
       "      <td>0.621443</td>\n",
       "      <td>0.187834</td>\n",
       "    </tr>\n",
       "    <tr>\n",
       "      <th>2</th>\n",
       "      <td>439893577</td>\n",
       "      <td>[0, 0]</td>\n",
       "      <td>5</td>\n",
       "      <td>Bought one a few years ago for my daughter and...</td>\n",
       "      <td>02 8, 2014</td>\n",
       "      <td>AR29QK6HPFYZ4</td>\n",
       "      <td>bought one a few years ago for my daughter and...</td>\n",
       "      <td>0.450000</td>\n",
       "      <td>10.7</td>\n",
       "      <td>0.250000</td>\n",
       "      <td>4.389365</td>\n",
       "      <td>7.461429</td>\n",
       "      <td>0.500000</td>\n",
       "      <td>0.741935</td>\n",
       "      <td>0.003141</td>\n",
       "      <td>0.583333</td>\n",
       "      <td>0.483709</td>\n",
       "      <td>0.209859</td>\n",
       "    </tr>\n",
       "    <tr>\n",
       "      <th>3</th>\n",
       "      <td>439893577</td>\n",
       "      <td>[1, 1]</td>\n",
       "      <td>4</td>\n",
       "      <td>I have a stainless steel refrigerator therefor...</td>\n",
       "      <td>05 5, 2014</td>\n",
       "      <td>ACCH8EOML6FN5</td>\n",
       "      <td>i have a stainless steel refrigerator therefor...</td>\n",
       "      <td>0.383333</td>\n",
       "      <td>18.1</td>\n",
       "      <td>0.300000</td>\n",
       "      <td>4.926721</td>\n",
       "      <td>6.906960</td>\n",
       "      <td>0.666667</td>\n",
       "      <td>0.723404</td>\n",
       "      <td>0.006609</td>\n",
       "      <td>0.611111</td>\n",
       "      <td>0.550489</td>\n",
       "      <td>0.194068</td>\n",
       "    </tr>\n",
       "    <tr>\n",
       "      <th>4</th>\n",
       "      <td>439893577</td>\n",
       "      <td>[0, 0]</td>\n",
       "      <td>3</td>\n",
       "      <td>this is a nice magnetic board for the kids to ...</td>\n",
       "      <td>05 16, 2013</td>\n",
       "      <td>A1EDPGHC9EYBUN</td>\n",
       "      <td>this is a nice magnetic board for the kids to ...</td>\n",
       "      <td>1.000000</td>\n",
       "      <td>14.6</td>\n",
       "      <td>0.600000</td>\n",
       "      <td>4.786426</td>\n",
       "      <td>9.432786</td>\n",
       "      <td>0.250000</td>\n",
       "      <td>0.828571</td>\n",
       "      <td>0.004969</td>\n",
       "      <td>0.777778</td>\n",
       "      <td>0.533054</td>\n",
       "      <td>0.266001</td>\n",
       "    </tr>\n",
       "  </tbody>\n",
       "</table>\n",
       "</div>"
      ],
      "text/plain": [
       "        asin helpful overall  \\\n",
       "0  439893577  [1, 1]       4   \n",
       "1  439893577  [1, 1]       5   \n",
       "2  439893577  [0, 0]       5   \n",
       "3  439893577  [1, 1]       4   \n",
       "4  439893577  [0, 0]       3   \n",
       "\n",
       "                                          reviewText   reviewTime  \\\n",
       "0  Love the magnet easel... great for moving to d...  03 28, 2014   \n",
       "1  Both sides are magnetic.  A real plus when you...  01 28, 2013   \n",
       "2  Bought one a few years ago for my daughter and...   02 8, 2014   \n",
       "3  I have a stainless steel refrigerator therefor...   05 5, 2014   \n",
       "4  this is a nice magnetic board for the kids to ...  05 16, 2013   \n",
       "\n",
       "       reviewerID                            PreProcessed_reviewText  \\\n",
       "0   A8R62G708TSCM  love the magnet easel great for moving to diff...   \n",
       "1  A21KH420DK0ICA  both sides are magnetic  a real plus when your...   \n",
       "2   AR29QK6HPFYZ4  bought one a few years ago for my daughter and...   \n",
       "3   ACCH8EOML6FN5  i have a stainless steel refrigerator therefor...   \n",
       "4  A1EDPGHC9EYBUN  this is a nice magnetic board for the kids to ...   \n",
       "\n",
       "   subjectivity_score  flesch_index  polarity_score  entropy_score  \\\n",
       "0            0.650000           8.3        0.433333       4.459432   \n",
       "1            0.450000          29.4        0.333333       5.497670   \n",
       "2            0.450000          10.7        0.250000       4.389365   \n",
       "3            0.383333          18.1        0.300000       4.926721   \n",
       "4            1.000000          14.6        0.600000       4.786426   \n",
       "\n",
       "   DaleChall_Index  helpful_ratio  lex_diversity  normalized_Flesch_Index  \\\n",
       "0         7.588870       0.750000       1.000000                 0.002016   \n",
       "1         6.688048       0.200000       0.684211                 0.011906   \n",
       "2         7.461429       0.500000       0.741935                 0.003141   \n",
       "3         6.906960       0.666667       0.723404                 0.006609   \n",
       "4         9.432786       0.250000       0.828571                 0.004969   \n",
       "\n",
       "   normalized_polarity  normalized_entropy_score  normalized_DaleChall_Index  \n",
       "0             0.685185                  0.492417                    0.213488  \n",
       "1             0.629630                  0.621443                    0.187834  \n",
       "2             0.583333                  0.483709                    0.209859  \n",
       "3             0.611111                  0.550489                    0.194068  \n",
       "4             0.777778                  0.533054                    0.266001  "
      ]
     },
     "execution_count": 4,
     "metadata": {},
     "output_type": "execute_result"
    }
   ],
   "source": [
    "toyData.head(5)"
   ]
  },
  {
   "cell_type": "markdown",
   "metadata": {},
   "source": [
    "### Calculate minimum and maximum value of Helpful Ratio"
   ]
  },
  {
   "cell_type": "code",
   "execution_count": 5,
   "metadata": {},
   "outputs": [
    {
     "data": {
      "text/plain": [
       "0.038461538461538464"
      ]
     },
     "execution_count": 5,
     "metadata": {},
     "output_type": "execute_result"
    }
   ],
   "source": [
    "toyData['helpful_ratio'].min()"
   ]
  },
  {
   "cell_type": "code",
   "execution_count": 6,
   "metadata": {},
   "outputs": [
    {
     "data": {
      "text/plain": [
       "0.9912280701754386"
      ]
     },
     "execution_count": 6,
     "metadata": {},
     "output_type": "execute_result"
    }
   ],
   "source": [
    "toyData['helpful_ratio'].max()"
   ]
  },
  {
   "cell_type": "markdown",
   "metadata": {},
   "source": [
    "### As the helpful ratio values are between 0 to 1, there is no need of normalization"
   ]
  }
 ],
 "metadata": {
  "kernelspec": {
   "display_name": "Python 3",
   "language": "python",
   "name": "python3"
  },
  "language_info": {
   "codemirror_mode": {
    "name": "ipython",
    "version": 3
   },
   "file_extension": ".py",
   "mimetype": "text/x-python",
   "name": "python",
   "nbconvert_exporter": "python",
   "pygments_lexer": "ipython3",
   "version": "3.7.1"
  }
 },
 "nbformat": 4,
 "nbformat_minor": 2
}
