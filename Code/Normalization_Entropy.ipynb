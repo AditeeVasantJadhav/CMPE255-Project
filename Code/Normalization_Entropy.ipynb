{
  "nbformat": 4,
  "nbformat_minor": 0,
  "metadata": {
    "colab": {
      "name": "Normalization_Entropy.ipynb",
      "provenance": []
    },
    "kernelspec": {
      "name": "python3",
      "display_name": "Python 3"
    }
  },
  "cells": [
    {
      "cell_type": "code",
      "metadata": {
        "id": "Yr0hejR_UTOp",
        "colab_type": "code",
        "colab": {}
      },
      "source": [
        "########################################################################################################\n",
        "# IMPORT LIBRARIES\n",
        "########################################################################################################\n",
        "import pandas as pd\n",
        "import numpy as np"
      ],
      "execution_count": 0,
      "outputs": []
    },
    {
      "cell_type": "code",
      "metadata": {
        "id": "PHj02rNEUf2V",
        "colab_type": "code",
        "colab": {
          "base_uri": "https://localhost:8080/",
          "height": 71
        },
        "outputId": "a90b557d-ad84-4387-8ac3-68d9eb2144d0"
      },
      "source": [
        "########################################################################################################\n",
        "# Read dataset obtained from previous step where semantic scores are calculated\n",
        "########################################################################################################\n",
        "toyData=pd.read_csv('Toys_and_Games.csv');"
      ],
      "execution_count": 2,
      "outputs": [
        {
          "output_type": "stream",
          "text": [
            "/usr/local/lib/python3.6/dist-packages/IPython/core/interactiveshell.py:2718: DtypeWarning: Columns (2) have mixed types.Specify dtype option on import or set low_memory=False.\n",
            "  interactivity=interactivity, compiler=compiler, result=result)\n"
          ],
          "name": "stderr"
        }
      ]
    },
    {
      "cell_type": "code",
      "metadata": {
        "id": "LJvKrM9KUhYN",
        "colab_type": "code",
        "outputId": "fe4340dc-b7ec-4c5c-ed0c-9d60638f5a0d",
        "colab": {
          "base_uri": "https://localhost:8080/",
          "height": 366
        }
      },
      "source": [
        "toyData.head(3)"
      ],
      "execution_count": 3,
      "outputs": [
        {
          "output_type": "execute_result",
          "data": {
            "text/html": [
              "<div>\n",
              "<style scoped>\n",
              "    .dataframe tbody tr th:only-of-type {\n",
              "        vertical-align: middle;\n",
              "    }\n",
              "\n",
              "    .dataframe tbody tr th {\n",
              "        vertical-align: top;\n",
              "    }\n",
              "\n",
              "    .dataframe thead th {\n",
              "        text-align: right;\n",
              "    }\n",
              "</style>\n",
              "<table border=\"1\" class=\"dataframe\">\n",
              "  <thead>\n",
              "    <tr style=\"text-align: right;\">\n",
              "      <th></th>\n",
              "      <th>asin</th>\n",
              "      <th>helpful</th>\n",
              "      <th>overall</th>\n",
              "      <th>reviewText</th>\n",
              "      <th>reviewTime</th>\n",
              "      <th>reviewerID</th>\n",
              "      <th>PreProcessed_reviewText</th>\n",
              "      <th>subjectivity_score</th>\n",
              "      <th>flesch_index</th>\n",
              "      <th>polarity_score</th>\n",
              "      <th>entropy_score</th>\n",
              "      <th>DaleChall_Index</th>\n",
              "      <th>helpful_ratio</th>\n",
              "      <th>lex_diversity</th>\n",
              "      <th>normalized_Flesch_Index</th>\n",
              "      <th>normalized_polarity</th>\n",
              "    </tr>\n",
              "  </thead>\n",
              "  <tbody>\n",
              "    <tr>\n",
              "      <th>0</th>\n",
              "      <td>439893577</td>\n",
              "      <td>[1, 1]</td>\n",
              "      <td>4</td>\n",
              "      <td>Love the magnet easel... great for moving to d...</td>\n",
              "      <td>03 28, 2014</td>\n",
              "      <td>A8R62G708TSCM</td>\n",
              "      <td>love the magnet easel great for moving to diff...</td>\n",
              "      <td>0.65</td>\n",
              "      <td>8.3</td>\n",
              "      <td>0.433333</td>\n",
              "      <td>4.459432</td>\n",
              "      <td>7.588870</td>\n",
              "      <td>0.75</td>\n",
              "      <td>1.000000</td>\n",
              "      <td>0.002016</td>\n",
              "      <td>0.685185</td>\n",
              "    </tr>\n",
              "    <tr>\n",
              "      <th>1</th>\n",
              "      <td>439893577</td>\n",
              "      <td>[1, 1]</td>\n",
              "      <td>5</td>\n",
              "      <td>Both sides are magnetic.  A real plus when you...</td>\n",
              "      <td>01 28, 2013</td>\n",
              "      <td>A21KH420DK0ICA</td>\n",
              "      <td>both sides are magnetic  a real plus when your...</td>\n",
              "      <td>0.45</td>\n",
              "      <td>29.4</td>\n",
              "      <td>0.333333</td>\n",
              "      <td>5.497670</td>\n",
              "      <td>6.688048</td>\n",
              "      <td>0.20</td>\n",
              "      <td>0.684211</td>\n",
              "      <td>0.011906</td>\n",
              "      <td>0.629630</td>\n",
              "    </tr>\n",
              "    <tr>\n",
              "      <th>2</th>\n",
              "      <td>439893577</td>\n",
              "      <td>[0, 0]</td>\n",
              "      <td>5</td>\n",
              "      <td>Bought one a few years ago for my daughter and...</td>\n",
              "      <td>02 8, 2014</td>\n",
              "      <td>AR29QK6HPFYZ4</td>\n",
              "      <td>bought one a few years ago for my daughter and...</td>\n",
              "      <td>0.45</td>\n",
              "      <td>10.7</td>\n",
              "      <td>0.250000</td>\n",
              "      <td>4.389365</td>\n",
              "      <td>7.461429</td>\n",
              "      <td>0.50</td>\n",
              "      <td>0.741935</td>\n",
              "      <td>0.003141</td>\n",
              "      <td>0.583333</td>\n",
              "    </tr>\n",
              "  </tbody>\n",
              "</table>\n",
              "</div>"
            ],
            "text/plain": [
              "        asin helpful  ... normalized_Flesch_Index normalized_polarity\n",
              "0  439893577  [1, 1]  ...                0.002016            0.685185\n",
              "1  439893577  [1, 1]  ...                0.011906            0.629630\n",
              "2  439893577  [0, 0]  ...                0.003141            0.583333\n",
              "\n",
              "[3 rows x 16 columns]"
            ]
          },
          "metadata": {
            "tags": []
          },
          "execution_count": 3
        }
      ]
    },
    {
      "cell_type": "code",
      "metadata": {
        "id": "sDGlEUuoUrYC",
        "colab_type": "code",
        "outputId": "e10f436f-02ba-4544-b027-e43249345d8f",
        "colab": {
          "base_uri": "https://localhost:8080/",
          "height": 34
        }
      },
      "source": [
        "########################################################################################################\n",
        "# Check minimum and maximum values of 'entropy_score'\n",
        "########################################################################################################\n",
        "print(toyData['entropy_score'].min())"
      ],
      "execution_count": 4,
      "outputs": [
        {
          "output_type": "stream",
          "text": [
            "0.4970986460348162\n"
          ],
          "name": "stdout"
        }
      ]
    },
    {
      "cell_type": "code",
      "metadata": {
        "id": "sOfvBfy5Uxv3",
        "colab_type": "code",
        "outputId": "3bfa052d-110c-45d5-d8a2-2d5dddf08136",
        "colab": {
          "base_uri": "https://localhost:8080/",
          "height": 34
        }
      },
      "source": [
        "print(toyData['entropy_score'].max())"
      ],
      "execution_count": 5,
      "outputs": [
        {
          "output_type": "stream",
          "text": [
            "8.543804345405345\n"
          ],
          "name": "stdout"
        }
      ]
    },
    {
      "cell_type": "code",
      "metadata": {
        "id": "AaWeJPiNU3WR",
        "colab_type": "code",
        "colab": {}
      },
      "source": [
        "########################################################################################################\n",
        "# Since minimum and maximum value of 'entropy_score' are not 0 and 1 respectively, the 'entropy_score'\n",
        "# needs to be computed in normalized format. Thus, we will perform following steps of normalization on it.\n",
        "########################################################################################################"
      ],
      "execution_count": 0,
      "outputs": []
    },
    {
      "cell_type": "code",
      "metadata": {
        "id": "rqMza8YaU9EE",
        "colab_type": "code",
        "colab": {}
      },
      "source": [
        "########################################################################################################\n",
        "# Add new column 'entropy_score' to dataframe\n",
        "########################################################################################################\n",
        "toyData['normalized_entropy_score']=0"
      ],
      "execution_count": 0,
      "outputs": []
    },
    {
      "cell_type": "code",
      "metadata": {
        "id": "SQkLkvZcVFgc",
        "colab_type": "code",
        "colab": {}
      },
      "source": [
        "length=len(toyData)\n",
        "minIndex=toyData['entropy_score'].min()\n",
        "maxIndex=toyData['entropy_score'].max()\n",
        "for i in range(length):\n",
        "  index=toyData.iloc[i,10]\n",
        "  normalizedIndex=(index-minIndex)/(maxIndex-minIndex)\n",
        "  toyData.iloc[i,16]=normalizedIndex"
      ],
      "execution_count": 0,
      "outputs": []
    },
    {
      "cell_type": "code",
      "metadata": {
        "id": "UPLbpJ2bVaMU",
        "colab_type": "code",
        "outputId": "c187478a-d2bf-4a14-c722-4ff094fa87c2",
        "colab": {
          "base_uri": "https://localhost:8080/",
          "height": 366
        }
      },
      "source": [
        "toyData.head(3)"
      ],
      "execution_count": 9,
      "outputs": [
        {
          "output_type": "execute_result",
          "data": {
            "text/html": [
              "<div>\n",
              "<style scoped>\n",
              "    .dataframe tbody tr th:only-of-type {\n",
              "        vertical-align: middle;\n",
              "    }\n",
              "\n",
              "    .dataframe tbody tr th {\n",
              "        vertical-align: top;\n",
              "    }\n",
              "\n",
              "    .dataframe thead th {\n",
              "        text-align: right;\n",
              "    }\n",
              "</style>\n",
              "<table border=\"1\" class=\"dataframe\">\n",
              "  <thead>\n",
              "    <tr style=\"text-align: right;\">\n",
              "      <th></th>\n",
              "      <th>asin</th>\n",
              "      <th>helpful</th>\n",
              "      <th>overall</th>\n",
              "      <th>reviewText</th>\n",
              "      <th>reviewTime</th>\n",
              "      <th>reviewerID</th>\n",
              "      <th>PreProcessed_reviewText</th>\n",
              "      <th>subjectivity_score</th>\n",
              "      <th>flesch_index</th>\n",
              "      <th>polarity_score</th>\n",
              "      <th>entropy_score</th>\n",
              "      <th>DaleChall_Index</th>\n",
              "      <th>helpful_ratio</th>\n",
              "      <th>lex_diversity</th>\n",
              "      <th>normalized_Flesch_Index</th>\n",
              "      <th>normalized_polarity</th>\n",
              "      <th>normalized_entropy_score</th>\n",
              "    </tr>\n",
              "  </thead>\n",
              "  <tbody>\n",
              "    <tr>\n",
              "      <th>0</th>\n",
              "      <td>439893577</td>\n",
              "      <td>[1, 1]</td>\n",
              "      <td>4</td>\n",
              "      <td>Love the magnet easel... great for moving to d...</td>\n",
              "      <td>03 28, 2014</td>\n",
              "      <td>A8R62G708TSCM</td>\n",
              "      <td>love the magnet easel great for moving to diff...</td>\n",
              "      <td>0.65</td>\n",
              "      <td>8.3</td>\n",
              "      <td>0.433333</td>\n",
              "      <td>4.459432</td>\n",
              "      <td>7.588870</td>\n",
              "      <td>0.75</td>\n",
              "      <td>1.000000</td>\n",
              "      <td>0.002016</td>\n",
              "      <td>0.685185</td>\n",
              "      <td>0.492417</td>\n",
              "    </tr>\n",
              "    <tr>\n",
              "      <th>1</th>\n",
              "      <td>439893577</td>\n",
              "      <td>[1, 1]</td>\n",
              "      <td>5</td>\n",
              "      <td>Both sides are magnetic.  A real plus when you...</td>\n",
              "      <td>01 28, 2013</td>\n",
              "      <td>A21KH420DK0ICA</td>\n",
              "      <td>both sides are magnetic  a real plus when your...</td>\n",
              "      <td>0.45</td>\n",
              "      <td>29.4</td>\n",
              "      <td>0.333333</td>\n",
              "      <td>5.497670</td>\n",
              "      <td>6.688048</td>\n",
              "      <td>0.20</td>\n",
              "      <td>0.684211</td>\n",
              "      <td>0.011906</td>\n",
              "      <td>0.629630</td>\n",
              "      <td>0.621443</td>\n",
              "    </tr>\n",
              "    <tr>\n",
              "      <th>2</th>\n",
              "      <td>439893577</td>\n",
              "      <td>[0, 0]</td>\n",
              "      <td>5</td>\n",
              "      <td>Bought one a few years ago for my daughter and...</td>\n",
              "      <td>02 8, 2014</td>\n",
              "      <td>AR29QK6HPFYZ4</td>\n",
              "      <td>bought one a few years ago for my daughter and...</td>\n",
              "      <td>0.45</td>\n",
              "      <td>10.7</td>\n",
              "      <td>0.250000</td>\n",
              "      <td>4.389365</td>\n",
              "      <td>7.461429</td>\n",
              "      <td>0.50</td>\n",
              "      <td>0.741935</td>\n",
              "      <td>0.003141</td>\n",
              "      <td>0.583333</td>\n",
              "      <td>0.483709</td>\n",
              "    </tr>\n",
              "  </tbody>\n",
              "</table>\n",
              "</div>"
            ],
            "text/plain": [
              "        asin helpful  ... normalized_polarity normalized_entropy_score\n",
              "0  439893577  [1, 1]  ...            0.685185                 0.492417\n",
              "1  439893577  [1, 1]  ...            0.629630                 0.621443\n",
              "2  439893577  [0, 0]  ...            0.583333                 0.483709\n",
              "\n",
              "[3 rows x 17 columns]"
            ]
          },
          "metadata": {
            "tags": []
          },
          "execution_count": 9
        }
      ]
    },
    {
      "cell_type": "code",
      "metadata": {
        "id": "dpseE8ijVfaf",
        "colab_type": "code",
        "colab": {}
      },
      "source": [
        "########################################################################################################\n",
        "# Save dataframe into same csv file so that new column will be added to it and can be used for further references\n",
        "########################################################################################################\n",
        "toyData.to_csv('Toys_and_Games.csv',index=False)"
      ],
      "execution_count": 0,
      "outputs": []
    },
    {
      "cell_type": "code",
      "metadata": {
        "id": "HkUgTAaTVij2",
        "colab_type": "code",
        "outputId": "2dda9018-d006-423e-e0eb-4925908a2629",
        "colab": {
          "base_uri": "https://localhost:8080/",
          "height": 400
        }
      },
      "source": [
        "########################################################################################################\n",
        "# Check if all required columns are added to csv file\n",
        "########################################################################################################\n",
        "df=pd.read_csv('Toys_and_Games.csv')\n",
        "df.head(3)"
      ],
      "execution_count": 11,
      "outputs": [
        {
          "output_type": "stream",
          "text": [
            "/usr/local/lib/python3.6/dist-packages/IPython/core/interactiveshell.py:2718: DtypeWarning: Columns (2) have mixed types.Specify dtype option on import or set low_memory=False.\n",
            "  interactivity=interactivity, compiler=compiler, result=result)\n"
          ],
          "name": "stderr"
        },
        {
          "output_type": "execute_result",
          "data": {
            "text/html": [
              "<div>\n",
              "<style scoped>\n",
              "    .dataframe tbody tr th:only-of-type {\n",
              "        vertical-align: middle;\n",
              "    }\n",
              "\n",
              "    .dataframe tbody tr th {\n",
              "        vertical-align: top;\n",
              "    }\n",
              "\n",
              "    .dataframe thead th {\n",
              "        text-align: right;\n",
              "    }\n",
              "</style>\n",
              "<table border=\"1\" class=\"dataframe\">\n",
              "  <thead>\n",
              "    <tr style=\"text-align: right;\">\n",
              "      <th></th>\n",
              "      <th>asin</th>\n",
              "      <th>helpful</th>\n",
              "      <th>overall</th>\n",
              "      <th>reviewText</th>\n",
              "      <th>reviewTime</th>\n",
              "      <th>reviewerID</th>\n",
              "      <th>PreProcessed_reviewText</th>\n",
              "      <th>subjectivity_score</th>\n",
              "      <th>flesch_index</th>\n",
              "      <th>polarity_score</th>\n",
              "      <th>entropy_score</th>\n",
              "      <th>DaleChall_Index</th>\n",
              "      <th>helpful_ratio</th>\n",
              "      <th>lex_diversity</th>\n",
              "      <th>normalized_Flesch_Index</th>\n",
              "      <th>normalized_polarity</th>\n",
              "      <th>normalized_entropy_score</th>\n",
              "    </tr>\n",
              "  </thead>\n",
              "  <tbody>\n",
              "    <tr>\n",
              "      <th>0</th>\n",
              "      <td>439893577</td>\n",
              "      <td>[1, 1]</td>\n",
              "      <td>4</td>\n",
              "      <td>Love the magnet easel... great for moving to d...</td>\n",
              "      <td>03 28, 2014</td>\n",
              "      <td>A8R62G708TSCM</td>\n",
              "      <td>love the magnet easel great for moving to diff...</td>\n",
              "      <td>0.65</td>\n",
              "      <td>8.3</td>\n",
              "      <td>0.433333</td>\n",
              "      <td>4.459432</td>\n",
              "      <td>7.588870</td>\n",
              "      <td>0.75</td>\n",
              "      <td>1.000000</td>\n",
              "      <td>0.002016</td>\n",
              "      <td>0.685185</td>\n",
              "      <td>0.492417</td>\n",
              "    </tr>\n",
              "    <tr>\n",
              "      <th>1</th>\n",
              "      <td>439893577</td>\n",
              "      <td>[1, 1]</td>\n",
              "      <td>5</td>\n",
              "      <td>Both sides are magnetic.  A real plus when you...</td>\n",
              "      <td>01 28, 2013</td>\n",
              "      <td>A21KH420DK0ICA</td>\n",
              "      <td>both sides are magnetic  a real plus when your...</td>\n",
              "      <td>0.45</td>\n",
              "      <td>29.4</td>\n",
              "      <td>0.333333</td>\n",
              "      <td>5.497670</td>\n",
              "      <td>6.688048</td>\n",
              "      <td>0.20</td>\n",
              "      <td>0.684211</td>\n",
              "      <td>0.011906</td>\n",
              "      <td>0.629630</td>\n",
              "      <td>0.621443</td>\n",
              "    </tr>\n",
              "    <tr>\n",
              "      <th>2</th>\n",
              "      <td>439893577</td>\n",
              "      <td>[0, 0]</td>\n",
              "      <td>5</td>\n",
              "      <td>Bought one a few years ago for my daughter and...</td>\n",
              "      <td>02 8, 2014</td>\n",
              "      <td>AR29QK6HPFYZ4</td>\n",
              "      <td>bought one a few years ago for my daughter and...</td>\n",
              "      <td>0.45</td>\n",
              "      <td>10.7</td>\n",
              "      <td>0.250000</td>\n",
              "      <td>4.389365</td>\n",
              "      <td>7.461429</td>\n",
              "      <td>0.50</td>\n",
              "      <td>0.741935</td>\n",
              "      <td>0.003141</td>\n",
              "      <td>0.583333</td>\n",
              "      <td>0.483709</td>\n",
              "    </tr>\n",
              "  </tbody>\n",
              "</table>\n",
              "</div>"
            ],
            "text/plain": [
              "        asin helpful  ... normalized_polarity normalized_entropy_score\n",
              "0  439893577  [1, 1]  ...            0.685185                 0.492417\n",
              "1  439893577  [1, 1]  ...            0.629630                 0.621443\n",
              "2  439893577  [0, 0]  ...            0.583333                 0.483709\n",
              "\n",
              "[3 rows x 17 columns]"
            ]
          },
          "metadata": {
            "tags": []
          },
          "execution_count": 11
        }
      ]
    }
  ]
}