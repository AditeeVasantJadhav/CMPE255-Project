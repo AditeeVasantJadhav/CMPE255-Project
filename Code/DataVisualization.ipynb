{
  "nbformat": 4,
  "nbformat_minor": 0,
  "metadata": {
    "colab": {
      "name": "DataVisualization.ipynb",
      "provenance": [],
      "collapsed_sections": []
    },
    "kernelspec": {
      "name": "python3",
      "display_name": "Python 3"
    }
  },
  "cells": [
    {
      "cell_type": "markdown",
      "metadata": {
        "id": "jdgPuPjSEMv8",
        "colab_type": "text"
      },
      "source": [
        "<font color='green'>**Import Libraries**</font>"
      ]
    },
    {
      "cell_type": "code",
      "metadata": {
        "id": "wc-PWmsNjC19",
        "colab_type": "code",
        "colab": {}
      },
      "source": [
        "########################################################################################################\n",
        "# IMPORT LIBRARIES\n",
        "########################################################################################################\n",
        "import pandas as pd\n",
        "import numpy as np\n",
        "import seaborn as sns"
      ],
      "execution_count": 0,
      "outputs": []
    },
    {
      "cell_type": "markdown",
      "metadata": {
        "id": "OPVz4mfJEcMR",
        "colab_type": "text"
      },
      "source": [
        "<font color='green'>**Load Dataset**</font>"
      ]
    },
    {
      "cell_type": "code",
      "metadata": {
        "id": "1r6PfxfpjSbS",
        "colab_type": "code",
        "outputId": "a6e16d6e-91f2-4cbc-f5e8-1e41e5490938",
        "colab": {
          "base_uri": "https://localhost:8080/",
          "height": 186
        }
      },
      "source": [
        "########################################################################################################\n",
        "# Load Dataset\n",
        "########################################################################################################\n",
        "df = pd.read_csv('Toys_and_Games.csv')\n",
        "df.head(3)"
      ],
      "execution_count": 0,
      "outputs": [
        {
          "output_type": "execute_result",
          "data": {
            "text/html": [
              "<div>\n",
              "<style scoped>\n",
              "    .dataframe tbody tr th:only-of-type {\n",
              "        vertical-align: middle;\n",
              "    }\n",
              "\n",
              "    .dataframe tbody tr th {\n",
              "        vertical-align: top;\n",
              "    }\n",
              "\n",
              "    .dataframe thead th {\n",
              "        text-align: right;\n",
              "    }\n",
              "</style>\n",
              "<table border=\"1\" class=\"dataframe\">\n",
              "  <thead>\n",
              "    <tr style=\"text-align: right;\">\n",
              "      <th></th>\n",
              "      <th>asin</th>\n",
              "      <th>helpful</th>\n",
              "      <th>overall</th>\n",
              "      <th>reviewText</th>\n",
              "      <th>reviewTime</th>\n",
              "      <th>reviewerID</th>\n",
              "      <th>reviewerName</th>\n",
              "      <th>summary</th>\n",
              "      <th>unixReviewTime</th>\n",
              "    </tr>\n",
              "  </thead>\n",
              "  <tbody>\n",
              "    <tr>\n",
              "      <th>0</th>\n",
              "      <td>0439893577</td>\n",
              "      <td>[0, 0]</td>\n",
              "      <td>5.0</td>\n",
              "      <td>I like the item pricing. My granddaughter want...</td>\n",
              "      <td>01 29, 2014</td>\n",
              "      <td>A1VXOAVRGKGEAK</td>\n",
              "      <td>Angie</td>\n",
              "      <td>Magnetic board</td>\n",
              "      <td>1.390954e+09</td>\n",
              "    </tr>\n",
              "    <tr>\n",
              "      <th>1</th>\n",
              "      <td>0439893577</td>\n",
              "      <td>[1, 1]</td>\n",
              "      <td>4.0</td>\n",
              "      <td>Love the magnet easel... great for moving to d...</td>\n",
              "      <td>03 28, 2014</td>\n",
              "      <td>A8R62G708TSCM</td>\n",
              "      <td>Candace</td>\n",
              "      <td>it works pretty good for moving to different a...</td>\n",
              "      <td>1.395965e+09</td>\n",
              "    </tr>\n",
              "    <tr>\n",
              "      <th>2</th>\n",
              "      <td>0439893577</td>\n",
              "      <td>[1, 1]</td>\n",
              "      <td>5.0</td>\n",
              "      <td>Both sides are magnetic.  A real plus when you...</td>\n",
              "      <td>01 28, 2013</td>\n",
              "      <td>A21KH420DK0ICA</td>\n",
              "      <td>capemaychristy</td>\n",
              "      <td>love this!</td>\n",
              "      <td>1.359331e+09</td>\n",
              "    </tr>\n",
              "  </tbody>\n",
              "</table>\n",
              "</div>"
            ],
            "text/plain": [
              "         asin  ... unixReviewTime\n",
              "0  0439893577  ...   1.390954e+09\n",
              "1  0439893577  ...   1.395965e+09\n",
              "2  0439893577  ...   1.359331e+09\n",
              "\n",
              "[3 rows x 9 columns]"
            ]
          },
          "metadata": {
            "tags": []
          },
          "execution_count": 50
        }
      ]
    },
    {
      "cell_type": "markdown",
      "metadata": {
        "id": "uK03TS0pEmri",
        "colab_type": "text"
      },
      "source": [
        "<font color='green'>**View dimensionality of data**</font>"
      ]
    },
    {
      "cell_type": "code",
      "metadata": {
        "id": "SbyQjtwOjXN3",
        "colab_type": "code",
        "outputId": "5c79e7a3-c6d1-45b1-f05a-d592592c4b63",
        "colab": {
          "base_uri": "https://localhost:8080/",
          "height": 34
        }
      },
      "source": [
        "########################################################################################################\n",
        "# View dimensionality of data\n",
        "########################################################################################################\n",
        "df.shape"
      ],
      "execution_count": 0,
      "outputs": [
        {
          "output_type": "execute_result",
          "data": {
            "text/plain": [
              "(167597, 9)"
            ]
          },
          "metadata": {
            "tags": []
          },
          "execution_count": 51
        }
      ]
    },
    {
      "cell_type": "markdown",
      "metadata": {
        "id": "qp8MmkX7ErH9",
        "colab_type": "text"
      },
      "source": [
        "<font color='green'>**Bar Plot**</font>"
      ]
    },
    {
      "cell_type": "code",
      "metadata": {
        "id": "kwGWhE0yjZxZ",
        "colab_type": "code",
        "outputId": "e66de97c-44ad-487e-bc9b-16271223a1c0",
        "colab": {
          "base_uri": "https://localhost:8080/",
          "height": 288
        }
      },
      "source": [
        "########################################################################################################\n",
        "# Bar Plot\n",
        "########################################################################################################\n",
        "df['overall'].value_counts().plot(kind='bar', color='red')"
      ],
      "execution_count": 0,
      "outputs": [
        {
          "output_type": "execute_result",
          "data": {
            "text/plain": [
              "<matplotlib.axes._subplots.AxesSubplot at 0x7f13a57cceb8>"
            ]
          },
          "metadata": {
            "tags": []
          },
          "execution_count": 55
        },
        {
          "output_type": "display_data",
          "data": {
            "image/png": "[encoded data removed]",
            "text/plain": [
              "<Figure size 432x288 with 1 Axes>"
            ]
          },
          "metadata": {
            "tags": [],
            "needs_background": "light"
          }
        }
      ]
    },
    {
      "cell_type": "markdown",
      "metadata": {
        "id": "SZxy1dTtFMJy",
        "colab_type": "text"
      },
      "source": [
        "<font color='green'>**Line Plot**</font>"
      ]
    },
    {
      "cell_type": "code",
      "metadata": {
        "id": "JeiFxjZ03Ub7",
        "colab_type": "code",
        "outputId": "54074329-0fe0-4357-a749-061044e42e68",
        "colab": {
          "base_uri": "https://localhost:8080/",
          "height": 298
        }
      },
      "source": [
        "########################################################################################################\n",
        "# Line Plot\n",
        "########################################################################################################\n",
        "df.drop(['overall'], axis=1).plot.line(title='Toys Dataset')"
      ],
      "execution_count": 0,
      "outputs": [
        {
          "output_type": "execute_result",
          "data": {
            "text/plain": [
              "<matplotlib.axes._subplots.AxesSubplot at 0x7f13a578f2e8>"
            ]
          },
          "metadata": {
            "tags": []
          },
          "execution_count": 56
        },
        {
          "output_type": "display_data",
          "data": {
            "image/png": "[encoded data removed]",
            "text/plain": [
              "<Figure size 432x288 with 1 Axes>"
            ]
          },
          "metadata": {
            "tags": [],
            "needs_background": "light"
          }
        }
      ]
    },
    {
      "cell_type": "markdown",
      "metadata": {
        "id": "9x4L1YBuFQFL",
        "colab_type": "text"
      },
      "source": [
        "<font color='green'>**Extract 'year' from 'reviewTime' column into separate column**</font>"
      ]
    },
    {
      "cell_type": "code",
      "metadata": {
        "id": "-mW59fOJ48JN",
        "colab_type": "code",
        "colab": {}
      },
      "source": [
        "########################################################################################################\n",
        "# Extract 'year' from 'reviewTime' column into separate column\n",
        "########################################################################################################\n",
        "df.reviewTime = df.reviewTime.apply(lambda x: ' '.join(i.strip() for i in x.split(\",\")))\n",
        "df.reviewTime = pd.to_datetime(df.reviewTime)\n",
        "df['year']= df['reviewTime'].dt.year"
      ],
      "execution_count": 0,
      "outputs": []
    },
    {
      "cell_type": "code",
      "metadata": {
        "id": "27zh-bRSCPkD",
        "colab_type": "code",
        "outputId": "1858ad54-484c-476c-c3e8-4a95187695be",
        "colab": {
          "base_uri": "https://localhost:8080/",
          "height": 203
        }
      },
      "source": [
        "df.head(3)"
      ],
      "execution_count": 0,
      "outputs": [
        {
          "output_type": "execute_result",
          "data": {
            "text/html": [
              "<div>\n",
              "<style scoped>\n",
              "    .dataframe tbody tr th:only-of-type {\n",
              "        vertical-align: middle;\n",
              "    }\n",
              "\n",
              "    .dataframe tbody tr th {\n",
              "        vertical-align: top;\n",
              "    }\n",
              "\n",
              "    .dataframe thead th {\n",
              "        text-align: right;\n",
              "    }\n",
              "</style>\n",
              "<table border=\"1\" class=\"dataframe\">\n",
              "  <thead>\n",
              "    <tr style=\"text-align: right;\">\n",
              "      <th></th>\n",
              "      <th>asin</th>\n",
              "      <th>helpful</th>\n",
              "      <th>overall</th>\n",
              "      <th>reviewText</th>\n",
              "      <th>reviewTime</th>\n",
              "      <th>reviewerID</th>\n",
              "      <th>reviewerName</th>\n",
              "      <th>summary</th>\n",
              "      <th>unixReviewTime</th>\n",
              "      <th>year</th>\n",
              "    </tr>\n",
              "  </thead>\n",
              "  <tbody>\n",
              "    <tr>\n",
              "      <th>0</th>\n",
              "      <td>0439893577</td>\n",
              "      <td>[0, 0]</td>\n",
              "      <td>5.0</td>\n",
              "      <td>I like the item pricing. My granddaughter want...</td>\n",
              "      <td>2014-01-29</td>\n",
              "      <td>A1VXOAVRGKGEAK</td>\n",
              "      <td>Angie</td>\n",
              "      <td>Magnetic board</td>\n",
              "      <td>1.390954e+09</td>\n",
              "      <td>2014</td>\n",
              "    </tr>\n",
              "    <tr>\n",
              "      <th>1</th>\n",
              "      <td>0439893577</td>\n",
              "      <td>[1, 1]</td>\n",
              "      <td>4.0</td>\n",
              "      <td>Love the magnet easel... great for moving to d...</td>\n",
              "      <td>2014-03-28</td>\n",
              "      <td>A8R62G708TSCM</td>\n",
              "      <td>Candace</td>\n",
              "      <td>it works pretty good for moving to different a...</td>\n",
              "      <td>1.395965e+09</td>\n",
              "      <td>2014</td>\n",
              "    </tr>\n",
              "    <tr>\n",
              "      <th>2</th>\n",
              "      <td>0439893577</td>\n",
              "      <td>[1, 1]</td>\n",
              "      <td>5.0</td>\n",
              "      <td>Both sides are magnetic.  A real plus when you...</td>\n",
              "      <td>2013-01-28</td>\n",
              "      <td>A21KH420DK0ICA</td>\n",
              "      <td>capemaychristy</td>\n",
              "      <td>love this!</td>\n",
              "      <td>1.359331e+09</td>\n",
              "      <td>2013</td>\n",
              "    </tr>\n",
              "  </tbody>\n",
              "</table>\n",
              "</div>"
            ],
            "text/plain": [
              "         asin helpful  ...  unixReviewTime  year\n",
              "0  0439893577  [0, 0]  ...    1.390954e+09  2014\n",
              "1  0439893577  [1, 1]  ...    1.395965e+09  2014\n",
              "2  0439893577  [1, 1]  ...    1.359331e+09  2013\n",
              "\n",
              "[3 rows x 10 columns]"
            ]
          },
          "metadata": {
            "tags": []
          },
          "execution_count": 58
        }
      ]
    },
    {
      "cell_type": "markdown",
      "metadata": {
        "id": "-52czozxFb23",
        "colab_type": "text"
      },
      "source": [
        "<font color='green'>**Scatter plot**</font>"
      ]
    },
    {
      "cell_type": "code",
      "metadata": {
        "id": "rgJClEhn5iJy",
        "colab_type": "code",
        "outputId": "8f3bf1b1-a7d1-45de-b34e-8fecf4c1d297",
        "colab": {
          "base_uri": "https://localhost:8080/",
          "height": 312
        }
      },
      "source": [
        "########################################################################################################\n",
        "# Scatter plot\n",
        "########################################################################################################\n",
        "df.plot.scatter(x='year', y='overall', title='Iris Dataset')"
      ],
      "execution_count": 0,
      "outputs": [
        {
          "output_type": "execute_result",
          "data": {
            "text/plain": [
              "<matplotlib.axes._subplots.AxesSubplot at 0x7f13a56a1ba8>"
            ]
          },
          "metadata": {
            "tags": []
          },
          "execution_count": 59
        },
        {
          "output_type": "display_data",
          "data": {
            "image/png": "[encoded data removed]",
            "text/plain": [
              "<Figure size 432x288 with 1 Axes>"
            ]
          },
          "metadata": {
            "tags": [],
            "needs_background": "light"
          }
        }
      ]
    },
    {
      "cell_type": "markdown",
      "metadata": {
        "id": "uhtc8pdAFgOZ",
        "colab_type": "text"
      },
      "source": [
        "<font color='green'>**Bar Plot on average rating given year wise**</font>"
      ]
    },
    {
      "cell_type": "code",
      "metadata": {
        "id": "0oDvgrHg5vWX",
        "colab_type": "code",
        "outputId": "dbe59983-7d20-4640-a1fb-261e5e089349",
        "colab": {
          "base_uri": "https://localhost:8080/",
          "height": 312
        }
      },
      "source": [
        "########################################################################################################\n",
        "# Bar Plot on average rating given per year\n",
        "########################################################################################################\n",
        "df.groupby(\"year\").overall.mean().sort_values(ascending=False)[:5].plot.bar()"
      ],
      "execution_count": 0,
      "outputs": [
        {
          "output_type": "execute_result",
          "data": {
            "text/plain": [
              "<matplotlib.axes._subplots.AxesSubplot at 0x7f13a7bd2320>"
            ]
          },
          "metadata": {
            "tags": []
          },
          "execution_count": 60
        },
        {
          "output_type": "display_data",
          "data": {
            "image/png": "[encoded data removed]",
            "text/plain": [
              "<Figure size 432x288 with 1 Axes>"
            ]
          },
          "metadata": {
            "tags": [],
            "needs_background": "light"
          }
        }
      ]
    },
    {
      "cell_type": "markdown",
      "metadata": {
        "id": "9Z5p_WeNGc41",
        "colab_type": "text"
      },
      "source": [
        "<font color='green'>**Histogram**</font>"
      ]
    },
    {
      "cell_type": "code",
      "metadata": {
        "id": "MoB64oXTF6gU",
        "colab_type": "code",
        "outputId": "db90ea1f-74bf-4200-bd7e-0dbba3af4c5a",
        "colab": {
          "base_uri": "https://localhost:8080/",
          "height": 296
        }
      },
      "source": [
        "########################################################################################################\n",
        "# Histogram\n",
        "########################################################################################################\n",
        "sns.distplot(df['overall'], bins=10, kde=False)"
      ],
      "execution_count": 0,
      "outputs": [
        {
          "output_type": "execute_result",
          "data": {
            "text/plain": [
              "<matplotlib.axes._subplots.AxesSubplot at 0x7f13a4b2f2e8>"
            ]
          },
          "metadata": {
            "tags": []
          },
          "execution_count": 63
        },
        {
          "output_type": "display_data",
          "data": {
            "image/png": "[encoded data removed]",
            "text/plain": [
              "<Figure size 432x288 with 1 Axes>"
            ]
          },
          "metadata": {
            "tags": [],
            "needs_background": "light"
          }
        }
      ]
    },
    {
      "cell_type": "code",
      "metadata": {
        "id": "Ce4HITlq6Nbx",
        "colab_type": "code",
        "outputId": "9056ed4c-0907-47a4-91e8-1cb9df30683a",
        "colab": {
          "base_uri": "https://localhost:8080/",
          "height": 296
        }
      },
      "source": [
        "sns.distplot(df['overall'], bins=10, kde=True)"
      ],
      "execution_count": 0,
      "outputs": [
        {
          "output_type": "execute_result",
          "data": {
            "text/plain": [
              "<matplotlib.axes._subplots.AxesSubplot at 0x7f13a4bd3b70>"
            ]
          },
          "metadata": {
            "tags": []
          },
          "execution_count": 62
        },
        {
          "output_type": "display_data",
          "data": {
            "image/png": "[encoded data removed]",
            "text/plain": [
              "<Figure size 432x288 with 1 Axes>"
            ]
          },
          "metadata": {
            "tags": [],
            "needs_background": "light"
          }
        }
      ]
    },
    {
      "cell_type": "markdown",
      "metadata": {
        "id": "u9o0acy8GTY2",
        "colab_type": "text"
      },
      "source": [
        "<font color='green'>**Count plot**</font>"
      ]
    },
    {
      "cell_type": "code",
      "metadata": {
        "id": "fxlMf0XG6dDl",
        "colab_type": "code",
        "outputId": "75420c17-2e8c-4d9b-d0b2-beb949245e69",
        "colab": {
          "base_uri": "https://localhost:8080/",
          "height": 296
        }
      },
      "source": [
        "########################################################################################################\n",
        "# Count plot\n",
        "########################################################################################################\n",
        "sns.countplot(df['overall'])"
      ],
      "execution_count": 0,
      "outputs": [
        {
          "output_type": "execute_result",
          "data": {
            "text/plain": [
              "<matplotlib.axes._subplots.AxesSubplot at 0x7f13a4ad6400>"
            ]
          },
          "metadata": {
            "tags": []
          },
          "execution_count": 64
        },
        {
          "output_type": "display_data",
          "data": {
            "image/png": "[encoded data removed]",
            "text/plain": [
              "<Figure size 432x288 with 1 Axes>"
            ]
          },
          "metadata": {
            "tags": [],
            "needs_background": "light"
          }
        }
      ]
    },
    {
      "cell_type": "markdown",
      "metadata": {
        "id": "JimWjG5lGjyy",
        "colab_type": "text"
      },
      "source": [
        "<font color='green'>**Faceting**</font>"
      ]
    },
    {
      "cell_type": "code",
      "metadata": {
        "id": "zyiiqTzj7FOL",
        "colab_type": "code",
        "outputId": "e0e473c3-ca46-4986-81a2-9afd89cb0d12",
        "colab": {
          "base_uri": "https://localhost:8080/",
          "height": 225
        }
      },
      "source": [
        "########################################################################################################\n",
        "# Faceting\n",
        "########################################################################################################\n",
        "g = sns.FacetGrid(df, col='overall')\n",
        "g = g.map(sns.kdeplot, 'year')"
      ],
      "execution_count": 0,
      "outputs": [
        {
          "output_type": "display_data",
          "data": {
            "image/png": "[encoded data removed]",
            "text/plain": [
              "<Figure size 1080x216 with 5 Axes>"
            ]
          },
          "metadata": {
            "tags": [],
            "needs_background": "light"
          }
        }
      ]
    },
    {
      "cell_type": "markdown",
      "metadata": {
        "id": "PEn36kPJGpxG",
        "colab_type": "text"
      },
      "source": [
        "<font color='green'>**Box plot**</font>"
      ]
    },
    {
      "cell_type": "code",
      "metadata": {
        "id": "n5tqGbGj7tR3",
        "colab_type": "code",
        "outputId": "a9281ce6-3cac-4824-e1b6-9b10e81f768b",
        "colab": {
          "base_uri": "https://localhost:8080/",
          "height": 296
        }
      },
      "source": [
        "########################################################################################################\n",
        "# Box plot\n",
        "########################################################################################################\n",
        "sns.boxplot('overall', 'year', data=df)"
      ],
      "execution_count": 0,
      "outputs": [
        {
          "output_type": "execute_result",
          "data": {
            "text/plain": [
              "<matplotlib.axes._subplots.AxesSubplot at 0x7f13a48005c0>"
            ]
          },
          "metadata": {
            "tags": []
          },
          "execution_count": 66
        },
        {
          "output_type": "display_data",
          "data": {
            "image/png": "[encoded data removed]",
            "text/plain": [
              "<Figure size 432x288 with 1 Axes>"
            ]
          },
          "metadata": {
            "tags": [],
            "needs_background": "light"
          }
        }
      ]
    }
  ]
}