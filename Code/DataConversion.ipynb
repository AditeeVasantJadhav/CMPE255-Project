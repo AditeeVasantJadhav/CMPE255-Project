{
  "nbformat": 4,
  "nbformat_minor": 0,
  "metadata": {
    "colab": {
      "name": "DataConversion.ipynb",
      "provenance": [],
      "collapsed_sections": []
    },
    "kernelspec": {
      "name": "python3",
      "display_name": "Python 3"
    }
  },
  "cells": [
    {
      "cell_type": "markdown",
      "metadata": {
        "id": "8Xm03QLykOlK",
        "colab_type": "text"
      },
      "source": [
        "<font color='green'>**IMPORT LIBRARIES**</font>"
      ]
    },
    {
      "cell_type": "code",
      "metadata": {
        "id": "cCev1PYY8RNQ",
        "colab_type": "code",
        "colab": {}
      },
      "source": [
        "import pandas as pd\n",
        "import numpy as np\n",
        "import ast"
      ],
      "execution_count": 0,
      "outputs": []
    },
    {
      "cell_type": "markdown",
      "metadata": {
        "id": "_2hIMRnvkTjQ",
        "colab_type": "text"
      },
      "source": [
        "<font color='green'>**LOAD DATASET AND CONVERT TO CSV**</font>"
      ]
    },
    {
      "cell_type": "code",
      "metadata": {
        "id": "yxB8_zsm8qJT",
        "colab_type": "code",
        "colab": {}
      },
      "source": [
        "with open('Toys_and_Games_5.json', 'rb') as f:\n",
        "    data = f.readlines()\n",
        "    \n",
        "data = map(lambda x: x.rstrip(), data)\n",
        "df = pd.DataFrame()\n",
        "for r in data:\n",
        "    r = eval(r)\n",
        "    s  = pd.Series(r,index=r.keys())\n",
        "    df = df.append(s,ignore_index=True)\n",
        "df.to_csv('Toys_and_Games.csv', index=False)"
      ],
      "execution_count": 0,
      "outputs": []
    },
    {
      "cell_type": "code",
      "metadata": {
        "id": "_ItDRrT_-Vzs",
        "colab_type": "code",
        "outputId": "c1430d76-7332-4d0f-db51-87ae4ca24ddb",
        "colab": {
          "base_uri": "https://localhost:8080/",
          "height": 186
        }
      },
      "source": [
        "df = pd.read_csv('Toys_and_Games.csv')\n",
        "df.head(3)"
      ],
      "execution_count": 0,
      "outputs": [
        {
          "output_type": "execute_result",
          "data": {
            "text/html": [
              "<div>\n",
              "<style scoped>\n",
              "    .dataframe tbody tr th:only-of-type {\n",
              "        vertical-align: middle;\n",
              "    }\n",
              "\n",
              "    .dataframe tbody tr th {\n",
              "        vertical-align: top;\n",
              "    }\n",
              "\n",
              "    .dataframe thead th {\n",
              "        text-align: right;\n",
              "    }\n",
              "</style>\n",
              "<table border=\"1\" class=\"dataframe\">\n",
              "  <thead>\n",
              "    <tr style=\"text-align: right;\">\n",
              "      <th></th>\n",
              "      <th>asin</th>\n",
              "      <th>helpful</th>\n",
              "      <th>overall</th>\n",
              "      <th>reviewText</th>\n",
              "      <th>reviewTime</th>\n",
              "      <th>reviewerID</th>\n",
              "      <th>reviewerName</th>\n",
              "      <th>summary</th>\n",
              "      <th>unixReviewTime</th>\n",
              "    </tr>\n",
              "  </thead>\n",
              "  <tbody>\n",
              "    <tr>\n",
              "      <th>0</th>\n",
              "      <td>0439893577</td>\n",
              "      <td>[0, 0]</td>\n",
              "      <td>5.0</td>\n",
              "      <td>I like the item pricing. My granddaughter want...</td>\n",
              "      <td>01 29, 2014</td>\n",
              "      <td>A1VXOAVRGKGEAK</td>\n",
              "      <td>Angie</td>\n",
              "      <td>Magnetic board</td>\n",
              "      <td>1.390954e+09</td>\n",
              "    </tr>\n",
              "    <tr>\n",
              "      <th>1</th>\n",
              "      <td>0439893577</td>\n",
              "      <td>[1, 1]</td>\n",
              "      <td>4.0</td>\n",
              "      <td>Love the magnet easel... great for moving to d...</td>\n",
              "      <td>03 28, 2014</td>\n",
              "      <td>A8R62G708TSCM</td>\n",
              "      <td>Candace</td>\n",
              "      <td>it works pretty good for moving to different a...</td>\n",
              "      <td>1.395965e+09</td>\n",
              "    </tr>\n",
              "    <tr>\n",
              "      <th>2</th>\n",
              "      <td>0439893577</td>\n",
              "      <td>[1, 1]</td>\n",
              "      <td>5.0</td>\n",
              "      <td>Both sides are magnetic.  A real plus when you...</td>\n",
              "      <td>01 28, 2013</td>\n",
              "      <td>A21KH420DK0ICA</td>\n",
              "      <td>capemaychristy</td>\n",
              "      <td>love this!</td>\n",
              "      <td>1.359331e+09</td>\n",
              "    </tr>\n",
              "  </tbody>\n",
              "</table>\n",
              "</div>"
            ],
            "text/plain": [
              "         asin  ... unixReviewTime\n",
              "0  0439893577  ...   1.390954e+09\n",
              "1  0439893577  ...   1.395965e+09\n",
              "2  0439893577  ...   1.359331e+09\n",
              "\n",
              "[3 rows x 9 columns]"
            ]
          },
          "metadata": {
            "tags": []
          },
          "execution_count": 4
        }
      ]
    }
  ]
}