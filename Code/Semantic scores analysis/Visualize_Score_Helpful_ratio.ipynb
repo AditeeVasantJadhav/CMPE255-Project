{
 "cells": [
  {
   "cell_type": "code",
   "execution_count": 1,
   "metadata": {},
   "outputs": [],
   "source": [
    "########################################################################################################\n",
    "# IMPORT LIBRARIES\n",
    "########################################################################################################\n",
    "import pandas as pd\n",
    "import numpy as np\n",
    "import seaborn as sns\n",
    "import matplotlib.pyplot as plt\n",
    "from numpy import cov\n",
    "from scipy.stats import pearsonr\n",
    "from scipy.stats import spearmanr"
   ]
  },
  {
   "cell_type": "code",
   "execution_count": 2,
   "metadata": {},
   "outputs": [],
   "source": [
    "########################################################################################################\n",
    "# Read dataset obtained from previous step where semantic scores are calculated\n",
    "########################################################################################################\n",
    "toyData=pd.read_csv(\"Toys_and_Games.csv\");"
   ]
  },
  {
   "cell_type": "code",
   "execution_count": 3,
   "metadata": {},
   "outputs": [
    {
     "data": {
      "text/html": [
       "<div>\n",
       "<style scoped>\n",
       "    .dataframe tbody tr th:only-of-type {\n",
       "        vertical-align: middle;\n",
       "    }\n",
       "\n",
       "    .dataframe tbody tr th {\n",
       "        vertical-align: top;\n",
       "    }\n",
       "\n",
       "    .dataframe thead th {\n",
       "        text-align: right;\n",
       "    }\n",
       "</style>\n",
       "<table border=\"1\" class=\"dataframe\">\n",
       "  <thead>\n",
       "    <tr style=\"text-align: right;\">\n",
       "      <th></th>\n",
       "      <th>asin</th>\n",
       "      <th>helpful</th>\n",
       "      <th>overall</th>\n",
       "      <th>reviewText</th>\n",
       "      <th>reviewTime</th>\n",
       "      <th>reviewerID</th>\n",
       "      <th>PreProcessed_reviewText</th>\n",
       "      <th>subjectivity_score</th>\n",
       "      <th>flesch_index</th>\n",
       "      <th>polarity_score</th>\n",
       "      <th>entropy_score</th>\n",
       "      <th>DaleChall_Index</th>\n",
       "      <th>helpful_ratio</th>\n",
       "    </tr>\n",
       "  </thead>\n",
       "  <tbody>\n",
       "    <tr>\n",
       "      <th>0</th>\n",
       "      <td>439893577</td>\n",
       "      <td>[1, 1]</td>\n",
       "      <td>4</td>\n",
       "      <td>Love the magnet easel... great for moving to d...</td>\n",
       "      <td>03 28, 2014</td>\n",
       "      <td>A8R62G708TSCM</td>\n",
       "      <td>love the magnet easel great for moving to diff...</td>\n",
       "      <td>0.650000</td>\n",
       "      <td>8.3</td>\n",
       "      <td>0.433333</td>\n",
       "      <td>4.459432</td>\n",
       "      <td>7.588870</td>\n",
       "      <td>0.750000</td>\n",
       "    </tr>\n",
       "    <tr>\n",
       "      <th>1</th>\n",
       "      <td>439893577</td>\n",
       "      <td>[1, 1]</td>\n",
       "      <td>5</td>\n",
       "      <td>Both sides are magnetic.  A real plus when you...</td>\n",
       "      <td>01 28, 2013</td>\n",
       "      <td>A21KH420DK0ICA</td>\n",
       "      <td>both sides are magnetic  a real plus when your...</td>\n",
       "      <td>0.450000</td>\n",
       "      <td>29.4</td>\n",
       "      <td>0.333333</td>\n",
       "      <td>5.497670</td>\n",
       "      <td>6.688048</td>\n",
       "      <td>0.200000</td>\n",
       "    </tr>\n",
       "    <tr>\n",
       "      <th>2</th>\n",
       "      <td>439893577</td>\n",
       "      <td>[0, 0]</td>\n",
       "      <td>5</td>\n",
       "      <td>Bought one a few years ago for my daughter and...</td>\n",
       "      <td>02 8, 2014</td>\n",
       "      <td>AR29QK6HPFYZ4</td>\n",
       "      <td>bought one a few years ago for my daughter and...</td>\n",
       "      <td>0.450000</td>\n",
       "      <td>10.7</td>\n",
       "      <td>0.250000</td>\n",
       "      <td>4.389365</td>\n",
       "      <td>7.461429</td>\n",
       "      <td>0.500000</td>\n",
       "    </tr>\n",
       "    <tr>\n",
       "      <th>3</th>\n",
       "      <td>439893577</td>\n",
       "      <td>[1, 1]</td>\n",
       "      <td>4</td>\n",
       "      <td>I have a stainless steel refrigerator therefor...</td>\n",
       "      <td>05 5, 2014</td>\n",
       "      <td>ACCH8EOML6FN5</td>\n",
       "      <td>i have a stainless steel refrigerator therefor...</td>\n",
       "      <td>0.383333</td>\n",
       "      <td>18.1</td>\n",
       "      <td>0.300000</td>\n",
       "      <td>4.926721</td>\n",
       "      <td>6.906960</td>\n",
       "      <td>0.666667</td>\n",
       "    </tr>\n",
       "  </tbody>\n",
       "</table>\n",
       "</div>"
      ],
      "text/plain": [
       "        asin helpful  overall  \\\n",
       "0  439893577  [1, 1]        4   \n",
       "1  439893577  [1, 1]        5   \n",
       "2  439893577  [0, 0]        5   \n",
       "3  439893577  [1, 1]        4   \n",
       "\n",
       "                                          reviewText   reviewTime  \\\n",
       "0  Love the magnet easel... great for moving to d...  03 28, 2014   \n",
       "1  Both sides are magnetic.  A real plus when you...  01 28, 2013   \n",
       "2  Bought one a few years ago for my daughter and...   02 8, 2014   \n",
       "3  I have a stainless steel refrigerator therefor...   05 5, 2014   \n",
       "\n",
       "       reviewerID                            PreProcessed_reviewText  \\\n",
       "0   A8R62G708TSCM  love the magnet easel great for moving to diff...   \n",
       "1  A21KH420DK0ICA  both sides are magnetic  a real plus when your...   \n",
       "2   AR29QK6HPFYZ4  bought one a few years ago for my daughter and...   \n",
       "3   ACCH8EOML6FN5  i have a stainless steel refrigerator therefor...   \n",
       "\n",
       "   subjectivity_score  flesch_index  polarity_score  entropy_score  \\\n",
       "0            0.650000           8.3        0.433333       4.459432   \n",
       "1            0.450000          29.4        0.333333       5.497670   \n",
       "2            0.450000          10.7        0.250000       4.389365   \n",
       "3            0.383333          18.1        0.300000       4.926721   \n",
       "\n",
       "   DaleChall_Index  helpful_ratio  \n",
       "0         7.588870       0.750000  \n",
       "1         6.688048       0.200000  \n",
       "2         7.461429       0.500000  \n",
       "3         6.906960       0.666667  "
      ]
     },
     "execution_count": 3,
     "metadata": {},
     "output_type": "execute_result"
    }
   ],
   "source": [
    "toyData.head(4)"
   ]
  },
  {
   "cell_type": "code",
   "execution_count": 4,
   "metadata": {},
   "outputs": [
    {
     "data": {
      "text/html": [
       "<div>\n",
       "<style scoped>\n",
       "    .dataframe tbody tr th:only-of-type {\n",
       "        vertical-align: middle;\n",
       "    }\n",
       "\n",
       "    .dataframe tbody tr th {\n",
       "        vertical-align: top;\n",
       "    }\n",
       "\n",
       "    .dataframe thead th {\n",
       "        text-align: right;\n",
       "    }\n",
       "</style>\n",
       "<table border=\"1\" class=\"dataframe\">\n",
       "  <thead>\n",
       "    <tr style=\"text-align: right;\">\n",
       "      <th></th>\n",
       "      <th>subjectivity_score</th>\n",
       "      <th>flesch_index</th>\n",
       "      <th>polarity_score</th>\n",
       "      <th>entropy_score</th>\n",
       "      <th>DaleChall_Index</th>\n",
       "      <th>helpful_ratio</th>\n",
       "    </tr>\n",
       "    <tr>\n",
       "      <th>overall</th>\n",
       "      <th></th>\n",
       "      <th></th>\n",
       "      <th></th>\n",
       "      <th></th>\n",
       "      <th></th>\n",
       "      <th></th>\n",
       "    </tr>\n",
       "  </thead>\n",
       "  <tbody>\n",
       "    <tr>\n",
       "      <th>1</th>\n",
       "      <td>0.496235</td>\n",
       "      <td>43.495212</td>\n",
       "      <td>0.019646</td>\n",
       "      <td>5.631696</td>\n",
       "      <td>7.154661</td>\n",
       "      <td>0.618717</td>\n",
       "    </tr>\n",
       "    <tr>\n",
       "      <th>2</th>\n",
       "      <td>0.500991</td>\n",
       "      <td>49.697695</td>\n",
       "      <td>0.071962</td>\n",
       "      <td>5.773701</td>\n",
       "      <td>7.160521</td>\n",
       "      <td>0.643680</td>\n",
       "    </tr>\n",
       "    <tr>\n",
       "      <th>3</th>\n",
       "      <td>0.504213</td>\n",
       "      <td>48.623105</td>\n",
       "      <td>0.128070</td>\n",
       "      <td>5.727293</td>\n",
       "      <td>7.204525</td>\n",
       "      <td>0.638250</td>\n",
       "    </tr>\n",
       "    <tr>\n",
       "      <th>4</th>\n",
       "      <td>0.512541</td>\n",
       "      <td>47.424367</td>\n",
       "      <td>0.183872</td>\n",
       "      <td>5.698653</td>\n",
       "      <td>7.269105</td>\n",
       "      <td>0.642350</td>\n",
       "    </tr>\n",
       "    <tr>\n",
       "      <th>5</th>\n",
       "      <td>0.529315</td>\n",
       "      <td>33.991421</td>\n",
       "      <td>0.252520</td>\n",
       "      <td>5.350829</td>\n",
       "      <td>7.307210</td>\n",
       "      <td>0.621209</td>\n",
       "    </tr>\n",
       "  </tbody>\n",
       "</table>\n",
       "</div>"
      ],
      "text/plain": [
       "         subjectivity_score  flesch_index  polarity_score  entropy_score  \\\n",
       "overall                                                                    \n",
       "1                  0.496235     43.495212        0.019646       5.631696   \n",
       "2                  0.500991     49.697695        0.071962       5.773701   \n",
       "3                  0.504213     48.623105        0.128070       5.727293   \n",
       "4                  0.512541     47.424367        0.183872       5.698653   \n",
       "5                  0.529315     33.991421        0.252520       5.350829   \n",
       "\n",
       "         DaleChall_Index  helpful_ratio  \n",
       "overall                                  \n",
       "1               7.154661       0.618717  \n",
       "2               7.160521       0.643680  \n",
       "3               7.204525       0.638250  \n",
       "4               7.269105       0.642350  \n",
       "5               7.307210       0.621209  "
      ]
     },
     "execution_count": 4,
     "metadata": {},
     "output_type": "execute_result"
    }
   ],
   "source": [
    "########################################################################################################\n",
    "# Make groups of dataset based on distinct values  of column 'overall' and compute average values of\n",
    "# each semantic score for each group\n",
    "########################################################################################################\n",
    "groupedData=toyData.groupby(['overall']).mean()\n",
    "groupedData"
   ]
  },
  {
   "cell_type": "code",
   "execution_count": 5,
   "metadata": {},
   "outputs": [],
   "source": [
    "########################################################################################################\n",
    "# Add column 'overall' to grouped data\n",
    "########################################################################################################\n",
    "groupedData['overall']=[1,2,3,4,5]"
   ]
  },
  {
   "cell_type": "code",
   "execution_count": 8,
   "metadata": {},
   "outputs": [
    {
     "data": {
      "text/plain": [
       "pandas.core.frame.DataFrame"
      ]
     },
     "execution_count": 8,
     "metadata": {},
     "output_type": "execute_result"
    }
   ],
   "source": [
    "type(groupedData)"
   ]
  },
  {
   "cell_type": "code",
   "execution_count": 7,
   "metadata": {},
   "outputs": [
    {
     "data": {
      "image/png": "[encoded data removed]",
      "text/plain": [
       "<Figure size 432x288 with 1 Axes>"
      ]
     },
     "metadata": {
      "needs_background": "light"
     },
     "output_type": "display_data"
    }
   ],
   "source": [
    "########################################################################################################\n",
    "# Visualize line plot on grouped data for 'helpful ratio' column vs 'overall' column\n",
    "########################################################################################################\n",
    "lines=groupedData.plot.line(x='overall',y='helpful_ratio')"
   ]
  },
  {
   "cell_type": "code",
   "execution_count": 9,
   "metadata": {},
   "outputs": [
    {
     "name": "stdout",
     "output_type": "stream",
     "text": [
      "[[ 0.99266077 -0.00570765]\n",
      " [-0.00570765  0.02143034]]\n"
     ]
    }
   ],
   "source": [
    "########################################################################################################\n",
    "# Compute covariance between 'overall' and 'helpful ratio' columns\n",
    "########################################################################################################\n",
    "covariance = cov(toyData['overall'], toyData['helpful_ratio'])\n",
    "print(covariance)"
   ]
  },
  {
   "cell_type": "code",
   "execution_count": 12,
   "metadata": {},
   "outputs": [
    {
     "name": "stdout",
     "output_type": "stream",
     "text": [
      "Pearsons correlation between rating and helpful_ratio is: -0.03913\n"
     ]
    }
   ],
   "source": [
    "########################################################################################################\n",
    "# Compute pearson correlation between 'overall' and 'helpful_ratio' columns\n",
    "########################################################################################################\n",
    "corr, _ = pearsonr(toyData['overall'], toyData['helpful_ratio'])\n",
    "print('Pearsons correlation between rating and helpful_ratio is: %.5f' % corr)"
   ]
  },
  {
   "cell_type": "code",
   "execution_count": 13,
   "metadata": {},
   "outputs": [
    {
     "name": "stdout",
     "output_type": "stream",
     "text": [
      "Spearmans correlation between rating and helpful_ratio is: -0.06610\n"
     ]
    }
   ],
   "source": [
    "########################################################################################################\n",
    "# Compute spearnmans correlation between 'overall' and 'helpful_ratio' columns\n",
    "########################################################################################################\n",
    "corr, _ = spearmanr(toyData['overall'], toyData['helpful_ratio'])\n",
    "print('Spearmans correlation between rating and helpful_ratio is: %.5f' % corr)"
   ]
  },
  {
   "cell_type": "code",
   "execution_count": 15,
   "metadata": {},
   "outputs": [
    {
     "data": {
      "image/png": "[encoded data removed]",
      "text/plain": [
       "<Figure size 432x288 with 1 Axes>"
      ]
     },
     "metadata": {
      "needs_background": "light"
     },
     "output_type": "display_data"
    }
   ],
   "source": [
    "########################################################################################################\n",
    "# Visualize distplot of 'helpful_ratio' column\n",
    "########################################################################################################\n",
    "sns.distplot(toyData.helpful_ratio)\n",
    "plt.show()"
   ]
  },
  {
   "cell_type": "code",
   "execution_count": 23,
   "metadata": {
    "scrolled": false
   },
   "outputs": [
    {
     "data": {
      "image/png": "[encoded data removed]",
      "text/plain": [
       "<Figure size 432x432 with 3 Axes>"
      ]
     },
     "metadata": {
      "needs_background": "light"
     },
     "output_type": "display_data"
    }
   ],
   "source": [
    "########################################################################################################\n",
    "# Visualize jointplot of 'helpful_ratio' column again 'overall' column\n",
    "########################################################################################################\n",
    "sns.jointplot(data=toyData, x='overall', y='helpful_ratio', kind='reg', color='g')\n",
    "#plt.ylim(-1,36)\n",
    "plt.yticks(np.arange(0, 1, 0.1))\n",
    "plt.show()"
   ]
  }
 ],
 "metadata": {
  "kernelspec": {
   "display_name": "Python 3",
   "language": "python",
   "name": "python3"
  },
  "language_info": {
   "codemirror_mode": {
    "name": "ipython",
    "version": 3
   },
   "file_extension": ".py",
   "mimetype": "text/x-python",
   "name": "python",
   "nbconvert_exporter": "python",
   "pygments_lexer": "ipython3",
   "version": "3.7.1"
  }
 },
 "nbformat": 4,
 "nbformat_minor": 2
}
