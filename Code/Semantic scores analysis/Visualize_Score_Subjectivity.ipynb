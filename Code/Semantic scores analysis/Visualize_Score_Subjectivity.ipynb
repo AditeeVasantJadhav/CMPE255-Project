{
 "cells": [
  {
   "cell_type": "markdown",
   "metadata": {
    "colab_type": "text",
    "id": "-RFZ-dNKh5YT"
   },
   "source": [
    "<font color='green'>**IMPORT LIBRARIES**</font>"
   ]
  },
  {
   "cell_type": "code",
   "execution_count": 1,
   "metadata": {
    "colab": {},
    "colab_type": "code",
    "id": "Pc2ZAypu_s6t"
   },
   "outputs": [],
   "source": [
    "########################################################################################################\n",
    "# IMPORT LIBRARIES\n",
    "########################################################################################################\n",
    "import pandas as pd\n",
    "import numpy as np\n",
    "import seaborn as sns\n",
    "import matplotlib.pyplot as plt\n",
    "from numpy import cov\n",
    "from scipy.stats import pearsonr\n",
    "from scipy.stats import spearmanr"
   ]
  },
  {
   "cell_type": "markdown",
   "metadata": {
    "colab_type": "text",
    "id": "L9dOajPih7Ap"
   },
   "source": [
    "<font color='green'>**Read dataset obtained from previous step where semantic scores are calculated**</font>"
   ]
  },
  {
   "cell_type": "code",
   "execution_count": 2,
   "metadata": {
    "colab": {},
    "colab_type": "code",
    "id": "KAW6j2MaDRon"
   },
   "outputs": [],
   "source": [
    "########################################################################################################\n",
    "# Read dataset obtained from previous step where semantic scores are calculated\n",
    "########################################################################################################\n",
    "toyData=pd.read_csv(\"Toys_and_Games.csv\");"
   ]
  },
  {
   "cell_type": "code",
   "execution_count": 3,
   "metadata": {
    "colab": {
     "base_uri": "https://localhost:8080/",
     "height": 186
    },
    "colab_type": "code",
    "id": "JF3j2vcgDYqd",
    "outputId": "5de74173-75a3-4429-c9e8-294688707998"
   },
   "outputs": [
    {
     "data": {
      "text/html": [
       "<div>\n",
       "<style scoped>\n",
       "    .dataframe tbody tr th:only-of-type {\n",
       "        vertical-align: middle;\n",
       "    }\n",
       "\n",
       "    .dataframe tbody tr th {\n",
       "        vertical-align: top;\n",
       "    }\n",
       "\n",
       "    .dataframe thead th {\n",
       "        text-align: right;\n",
       "    }\n",
       "</style>\n",
       "<table border=\"1\" class=\"dataframe\">\n",
       "  <thead>\n",
       "    <tr style=\"text-align: right;\">\n",
       "      <th></th>\n",
       "      <th>asin</th>\n",
       "      <th>helpful</th>\n",
       "      <th>overall</th>\n",
       "      <th>reviewText</th>\n",
       "      <th>reviewTime</th>\n",
       "      <th>reviewerID</th>\n",
       "      <th>PreProcessed_reviewText</th>\n",
       "      <th>subjectivity_score</th>\n",
       "      <th>flesch_index</th>\n",
       "      <th>polarity_score</th>\n",
       "      <th>entropy_score</th>\n",
       "      <th>DaleChall_Index</th>\n",
       "      <th>helpful_ratio</th>\n",
       "      <th>lex_diversity</th>\n",
       "    </tr>\n",
       "  </thead>\n",
       "  <tbody>\n",
       "    <tr>\n",
       "      <th>0</th>\n",
       "      <td>439893577</td>\n",
       "      <td>[1, 1]</td>\n",
       "      <td>4</td>\n",
       "      <td>Love the magnet easel... great for moving to d...</td>\n",
       "      <td>03 28, 2014</td>\n",
       "      <td>A8R62G708TSCM</td>\n",
       "      <td>love the magnet easel great for moving to diff...</td>\n",
       "      <td>0.65</td>\n",
       "      <td>8.3</td>\n",
       "      <td>0.433333</td>\n",
       "      <td>4.459432</td>\n",
       "      <td>7.588870</td>\n",
       "      <td>0.75</td>\n",
       "      <td>1.000000</td>\n",
       "    </tr>\n",
       "    <tr>\n",
       "      <th>1</th>\n",
       "      <td>439893577</td>\n",
       "      <td>[1, 1]</td>\n",
       "      <td>5</td>\n",
       "      <td>Both sides are magnetic.  A real plus when you...</td>\n",
       "      <td>01 28, 2013</td>\n",
       "      <td>A21KH420DK0ICA</td>\n",
       "      <td>both sides are magnetic  a real plus when your...</td>\n",
       "      <td>0.45</td>\n",
       "      <td>29.4</td>\n",
       "      <td>0.333333</td>\n",
       "      <td>5.497670</td>\n",
       "      <td>6.688048</td>\n",
       "      <td>0.20</td>\n",
       "      <td>0.684211</td>\n",
       "    </tr>\n",
       "    <tr>\n",
       "      <th>2</th>\n",
       "      <td>439893577</td>\n",
       "      <td>[0, 0]</td>\n",
       "      <td>5</td>\n",
       "      <td>Bought one a few years ago for my daughter and...</td>\n",
       "      <td>02 8, 2014</td>\n",
       "      <td>AR29QK6HPFYZ4</td>\n",
       "      <td>bought one a few years ago for my daughter and...</td>\n",
       "      <td>0.45</td>\n",
       "      <td>10.7</td>\n",
       "      <td>0.250000</td>\n",
       "      <td>4.389365</td>\n",
       "      <td>7.461429</td>\n",
       "      <td>0.50</td>\n",
       "      <td>0.741935</td>\n",
       "    </tr>\n",
       "  </tbody>\n",
       "</table>\n",
       "</div>"
      ],
      "text/plain": [
       "        asin helpful  overall  \\\n",
       "0  439893577  [1, 1]        4   \n",
       "1  439893577  [1, 1]        5   \n",
       "2  439893577  [0, 0]        5   \n",
       "\n",
       "                                          reviewText   reviewTime  \\\n",
       "0  Love the magnet easel... great for moving to d...  03 28, 2014   \n",
       "1  Both sides are magnetic.  A real plus when you...  01 28, 2013   \n",
       "2  Bought one a few years ago for my daughter and...   02 8, 2014   \n",
       "\n",
       "       reviewerID                            PreProcessed_reviewText  \\\n",
       "0   A8R62G708TSCM  love the magnet easel great for moving to diff...   \n",
       "1  A21KH420DK0ICA  both sides are magnetic  a real plus when your...   \n",
       "2   AR29QK6HPFYZ4  bought one a few years ago for my daughter and...   \n",
       "\n",
       "   subjectivity_score  flesch_index  polarity_score  entropy_score  \\\n",
       "0                0.65           8.3        0.433333       4.459432   \n",
       "1                0.45          29.4        0.333333       5.497670   \n",
       "2                0.45          10.7        0.250000       4.389365   \n",
       "\n",
       "   DaleChall_Index  helpful_ratio  lex_diversity  \n",
       "0         7.588870           0.75       1.000000  \n",
       "1         6.688048           0.20       0.684211  \n",
       "2         7.461429           0.50       0.741935  "
      ]
     },
     "execution_count": 3,
     "metadata": {},
     "output_type": "execute_result"
    }
   ],
   "source": [
    "toyData.head(3)"
   ]
  },
  {
   "cell_type": "markdown",
   "metadata": {
    "colab_type": "text",
    "id": "fFr6FRpgh8Z_"
   },
   "source": [
    "<font color='green'>**Make groups of dataset based on distinct values  of column 'overall' and compute average values of each semantic score for each group**</font>"
   ]
  },
  {
   "cell_type": "code",
   "execution_count": 4,
   "metadata": {
    "colab": {
     "base_uri": "https://localhost:8080/",
     "height": 225
    },
    "colab_type": "code",
    "id": "_Mb43KfbEBBb",
    "outputId": "717047bc-8fb1-4c30-dad4-78506c8f401e"
   },
   "outputs": [
    {
     "data": {
      "text/html": [
       "<div>\n",
       "<style scoped>\n",
       "    .dataframe tbody tr th:only-of-type {\n",
       "        vertical-align: middle;\n",
       "    }\n",
       "\n",
       "    .dataframe tbody tr th {\n",
       "        vertical-align: top;\n",
       "    }\n",
       "\n",
       "    .dataframe thead th {\n",
       "        text-align: right;\n",
       "    }\n",
       "</style>\n",
       "<table border=\"1\" class=\"dataframe\">\n",
       "  <thead>\n",
       "    <tr style=\"text-align: right;\">\n",
       "      <th></th>\n",
       "      <th>subjectivity_score</th>\n",
       "      <th>flesch_index</th>\n",
       "      <th>polarity_score</th>\n",
       "      <th>entropy_score</th>\n",
       "      <th>DaleChall_Index</th>\n",
       "      <th>helpful_ratio</th>\n",
       "      <th>lex_diversity</th>\n",
       "    </tr>\n",
       "    <tr>\n",
       "      <th>overall</th>\n",
       "      <th></th>\n",
       "      <th></th>\n",
       "      <th></th>\n",
       "      <th></th>\n",
       "      <th></th>\n",
       "      <th></th>\n",
       "      <th></th>\n",
       "    </tr>\n",
       "  </thead>\n",
       "  <tbody>\n",
       "    <tr>\n",
       "      <th>1</th>\n",
       "      <td>0.496235</td>\n",
       "      <td>43.495212</td>\n",
       "      <td>0.019646</td>\n",
       "      <td>5.631696</td>\n",
       "      <td>7.154661</td>\n",
       "      <td>0.618717</td>\n",
       "      <td>0.741960</td>\n",
       "    </tr>\n",
       "    <tr>\n",
       "      <th>2</th>\n",
       "      <td>0.500991</td>\n",
       "      <td>49.697695</td>\n",
       "      <td>0.071962</td>\n",
       "      <td>5.773701</td>\n",
       "      <td>7.160521</td>\n",
       "      <td>0.643680</td>\n",
       "      <td>0.722132</td>\n",
       "    </tr>\n",
       "    <tr>\n",
       "      <th>3</th>\n",
       "      <td>0.504213</td>\n",
       "      <td>48.623105</td>\n",
       "      <td>0.128070</td>\n",
       "      <td>5.727293</td>\n",
       "      <td>7.204525</td>\n",
       "      <td>0.638250</td>\n",
       "      <td>0.727019</td>\n",
       "    </tr>\n",
       "    <tr>\n",
       "      <th>4</th>\n",
       "      <td>0.512541</td>\n",
       "      <td>47.424367</td>\n",
       "      <td>0.183872</td>\n",
       "      <td>5.698653</td>\n",
       "      <td>7.269105</td>\n",
       "      <td>0.642350</td>\n",
       "      <td>0.731439</td>\n",
       "    </tr>\n",
       "    <tr>\n",
       "      <th>5</th>\n",
       "      <td>0.529315</td>\n",
       "      <td>33.991421</td>\n",
       "      <td>0.252520</td>\n",
       "      <td>5.350829</td>\n",
       "      <td>7.307210</td>\n",
       "      <td>0.621209</td>\n",
       "      <td>0.779303</td>\n",
       "    </tr>\n",
       "  </tbody>\n",
       "</table>\n",
       "</div>"
      ],
      "text/plain": [
       "         subjectivity_score  flesch_index  polarity_score  entropy_score  \\\n",
       "overall                                                                    \n",
       "1                  0.496235     43.495212        0.019646       5.631696   \n",
       "2                  0.500991     49.697695        0.071962       5.773701   \n",
       "3                  0.504213     48.623105        0.128070       5.727293   \n",
       "4                  0.512541     47.424367        0.183872       5.698653   \n",
       "5                  0.529315     33.991421        0.252520       5.350829   \n",
       "\n",
       "         DaleChall_Index  helpful_ratio  lex_diversity  \n",
       "overall                                                 \n",
       "1               7.154661       0.618717       0.741960  \n",
       "2               7.160521       0.643680       0.722132  \n",
       "3               7.204525       0.638250       0.727019  \n",
       "4               7.269105       0.642350       0.731439  \n",
       "5               7.307210       0.621209       0.779303  "
      ]
     },
     "execution_count": 4,
     "metadata": {},
     "output_type": "execute_result"
    }
   ],
   "source": [
    "########################################################################################################\n",
    "# Make groups of dataset based on distinct values  of column 'overall' and compute average values of\n",
    "# each semantic score for each group\n",
    "########################################################################################################\n",
    "groupedData=toyData.groupby(['overall']).mean()\n",
    "groupedData"
   ]
  },
  {
   "cell_type": "markdown",
   "metadata": {
    "colab_type": "text",
    "id": "viOo1Brbh9mM"
   },
   "source": [
    "<font color='green'>**Add column 'overall' to grouped data**</font>"
   ]
  },
  {
   "cell_type": "code",
   "execution_count": 5,
   "metadata": {
    "colab": {},
    "colab_type": "code",
    "id": "s4ZrnH57OkWr"
   },
   "outputs": [],
   "source": [
    "########################################################################################################\n",
    "# Add column 'overall' to grouped data\n",
    "########################################################################################################\n",
    "groupedData['overall']=[1,2,3,4,5]"
   ]
  },
  {
   "cell_type": "markdown",
   "metadata": {
    "colab_type": "text",
    "id": "C4lEIZrvh-gd"
   },
   "source": [
    "<font color='green'>**Visualize line plot on grouped data for 'subjectivity_score' column vs 'overall' column**</font>"
   ]
  },
  {
   "cell_type": "code",
   "execution_count": 6,
   "metadata": {
    "colab": {
     "base_uri": "https://localhost:8080/",
     "height": 279
    },
    "colab_type": "code",
    "id": "hVdc1Gt_O9xh",
    "outputId": "0f985cba-2257-44a7-f924-5fe30e373d98"
   },
   "outputs": [
    {
     "data": {
      "image/png": "[encoded data removed]",
      "text/plain": [
       "<Figure size 432x288 with 1 Axes>"
      ]
     },
     "metadata": {
      "needs_background": "light"
     },
     "output_type": "display_data"
    }
   ],
   "source": [
    "########################################################################################################\n",
    "# Visualize line plot on grouped data for 'subjectivity_score' column vs 'overall' column\n",
    "########################################################################################################\n",
    "lines=groupedData.plot.line(x='overall',y='subjectivity_score')"
   ]
  },
  {
   "cell_type": "markdown",
   "metadata": {
    "colab_type": "text",
    "id": "70MljLsLiAFH"
   },
   "source": [
    "<font color='green'>**Compute covariance between 'overall' and 'subjectivity_score' columns**</font>"
   ]
  },
  {
   "cell_type": "code",
   "execution_count": 7,
   "metadata": {
    "colab": {
     "base_uri": "https://localhost:8080/",
     "height": 50
    },
    "colab_type": "code",
    "id": "0d4wzavyIVoG",
    "outputId": "35bd3ee3-bcbd-4723-930e-f266bc59f204"
   },
   "outputs": [
    {
     "name": "stdout",
     "output_type": "stream",
     "text": [
      "[[0.99266077 0.01033299]\n",
      " [0.01033299 0.01925984]]\n"
     ]
    }
   ],
   "source": [
    "########################################################################################################\n",
    "# Compute covariance between 'overall' and 'subjectivity_score' columns\n",
    "########################################################################################################\n",
    "covariance = cov(toyData['overall'], toyData['subjectivity_score'])\n",
    "print(covariance)"
   ]
  },
  {
   "cell_type": "markdown",
   "metadata": {
    "colab_type": "text",
    "id": "f4hzgJ1RKF9T"
   },
   "source": [
    "<font color='green'>**Compute pearson correlation between 'overall' and 'subjectivity_score' columns**</font>"
   ]
  },
  {
   "cell_type": "code",
   "execution_count": 8,
   "metadata": {
    "colab": {
     "base_uri": "https://localhost:8080/",
     "height": 34
    },
    "colab_type": "code",
    "id": "-0QFUwqZJS7L",
    "outputId": "bcdd6141-2e13-4d47-ceaa-a07a50c201cc"
   },
   "outputs": [
    {
     "name": "stdout",
     "output_type": "stream",
     "text": [
      "Pearsons correlation between rating ans subjectivity score is: 0.075\n"
     ]
    }
   ],
   "source": [
    "########################################################################################################\n",
    "# Compute pearson correlation between 'overall' and 'subjectivity_score' columns\n",
    "########################################################################################################\n",
    "corr, _ = pearsonr(toyData['overall'], toyData['subjectivity_score'])\n",
    "print('Pearsons correlation between rating ans subjectivity score is: %.3f' % corr)"
   ]
  },
  {
   "cell_type": "markdown",
   "metadata": {
    "colab_type": "text",
    "id": "2GFPqV_zKQQa"
   },
   "source": [
    "<font color='green'>**Compute spearnmans correlation between 'overall' and 'subjectivity_score' columns**</font>"
   ]
  },
  {
   "cell_type": "code",
   "execution_count": 9,
   "metadata": {
    "colab": {
     "base_uri": "https://localhost:8080/",
     "height": 34
    },
    "colab_type": "code",
    "id": "8oe4xoQxKX7E",
    "outputId": "a15b74a7-9d9d-473f-9110-d39b27c12f5f"
   },
   "outputs": [
    {
     "name": "stdout",
     "output_type": "stream",
     "text": [
      "Spearmans correlation between rating ans subjectivity score is: 0.086\n"
     ]
    }
   ],
   "source": [
    "########################################################################################################\n",
    "# Compute spearnmans correlation between 'overall' and 'subjectivity_score' columns\n",
    "########################################################################################################\n",
    "corr, _ = spearmanr(toyData['overall'], toyData['subjectivity_score'])\n",
    "print('Spearmans correlation between rating ans subjectivity score is: %.3f' % corr)"
   ]
  },
  {
   "cell_type": "markdown",
   "metadata": {
    "colab_type": "text",
    "id": "csaIL6TbN4KF"
   },
   "source": [
    "<font color='green'>**Visualize distplot of 'subjectivity_score' column**</font>"
   ]
  },
  {
   "cell_type": "code",
   "execution_count": 10,
   "metadata": {
    "colab": {
     "base_uri": "https://localhost:8080/",
     "height": 280
    },
    "colab_type": "code",
    "id": "-H9hO_tiLZpu",
    "outputId": "793e61a4-5bda-400d-e98b-77357cce0e6d"
   },
   "outputs": [
    {
     "name": "stderr",
     "output_type": "stream",
     "text": [
      "C:\\Users\\adite\\Anaconda3\\lib\\site-packages\\scipy\\stats\\stats.py:1713: FutureWarning: Using a non-tuple sequence for multidimensional indexing is deprecated; use `arr[tuple(seq)]` instead of `arr[seq]`. In the future this will be interpreted as an array index, `arr[np.array(seq)]`, which will result either in an error or a different result.\n",
      "  return np.add.reduce(sorted[indexer] * weights, axis=axis) / sumval\n"
     ]
    },
    {
     "data": {
      "image/png": "[encoded data removed]",
      "text/plain": [
       "<Figure size 432x288 with 1 Axes>"
      ]
     },
     "metadata": {
      "needs_background": "light"
     },
     "output_type": "display_data"
    }
   ],
   "source": [
    "########################################################################################################\n",
    "# Visualize distplot of 'subjectivity_score' column\n",
    "########################################################################################################\n",
    "sns.distplot(toyData.subjectivity_score)\n",
    "plt.show()"
   ]
  },
  {
   "cell_type": "markdown",
   "metadata": {
    "colab_type": "text",
    "id": "pvrzXWiJODyq"
   },
   "source": [
    "<font color='green'>**Visualize jointplot of 'subjectivity_score' column again 'overall' column**</font>"
   ]
  },
  {
   "cell_type": "code",
   "execution_count": 11,
   "metadata": {
    "colab": {
     "base_uri": "https://localhost:8080/",
     "height": 441
    },
    "colab_type": "code",
    "id": "BeBPr5TWM-Jo",
    "outputId": "a963643d-77a6-4a36-96e5-7e359e8de71b"
   },
   "outputs": [
    {
     "data": {
      "image/png": "[encoded data removed]",
      "text/plain": [
       "<Figure size 432x432 with 3 Axes>"
      ]
     },
     "metadata": {
      "needs_background": "light"
     },
     "output_type": "display_data"
    }
   ],
   "source": [
    "########################################################################################################\n",
    "# Visualize jointplot of 'subjectivity_score' column again 'overall' column\n",
    "########################################################################################################\n",
    "sns.jointplot(data=toyData, x='overall', y='subjectivity_score', kind='reg', color='g')\n",
    "plt.show()"
   ]
  }
 ],
 "metadata": {
  "colab": {
   "collapsed_sections": [],
   "name": "Visualize_Score_Subjectivity.ipynb",
   "provenance": []
  },
  "kernelspec": {
   "display_name": "Python 3",
   "language": "python",
   "name": "python3"
  },
  "language_info": {
   "codemirror_mode": {
    "name": "ipython",
    "version": 3
   },
   "file_extension": ".py",
   "mimetype": "text/x-python",
   "name": "python",
   "nbconvert_exporter": "python",
   "pygments_lexer": "ipython3",
   "version": "3.7.1"
  }
 },
 "nbformat": 4,
 "nbformat_minor": 1
}
