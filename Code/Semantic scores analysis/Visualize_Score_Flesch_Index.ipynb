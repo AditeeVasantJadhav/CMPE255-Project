{
 "cells": [
  {
   "cell_type": "markdown",
   "metadata": {
    "colab_type": "text",
    "id": "4EaBeMj30P4z"
   },
   "source": [
    "<font color='green'>**IMPORT LIBRARIES**</font>"
   ]
  },
  {
   "cell_type": "code",
   "execution_count": 14,
   "metadata": {
    "colab": {},
    "colab_type": "code",
    "id": "S7HJyIhvegKZ"
   },
   "outputs": [],
   "source": [
    "########################################################################################################\n",
    "# IMPORT LIBRARIES\n",
    "########################################################################################################\n",
    "import pandas as pd\n",
    "import numpy as np\n",
    "import seaborn as sns\n",
    "import matplotlib.pyplot as plt\n",
    "from numpy import cov\n",
    "from scipy.stats import pearsonr\n",
    "from scipy.stats import spearmanr"
   ]
  },
  {
   "cell_type": "markdown",
   "metadata": {
    "colab_type": "text",
    "id": "4Pq4OVnn0tq6"
   },
   "source": [
    "<font color='green'>**Read dataset obtained from previous step where semantic scores are calculated**</font>"
   ]
  },
  {
   "cell_type": "code",
   "execution_count": 15,
   "metadata": {
    "colab": {},
    "colab_type": "code",
    "id": "4Wi2gJTOer7L"
   },
   "outputs": [],
   "source": [
    "########################################################################################################\n",
    "# Read dataset obtained from previous step where semantic scores are calculated\n",
    "########################################################################################################\n",
    "toyData=pd.read_csv(\"Toys_and_Games.csv\");"
   ]
  },
  {
   "cell_type": "code",
   "execution_count": 16,
   "metadata": {
    "colab": {
     "base_uri": "https://localhost:8080/",
     "height": 186
    },
    "colab_type": "code",
    "id": "ODaM4dB7euBE",
    "outputId": "dfb63224-25b5-49eb-af9e-ce087ca50c1a"
   },
   "outputs": [
    {
     "data": {
      "text/html": [
       "<div>\n",
       "<style scoped>\n",
       "    .dataframe tbody tr th:only-of-type {\n",
       "        vertical-align: middle;\n",
       "    }\n",
       "\n",
       "    .dataframe tbody tr th {\n",
       "        vertical-align: top;\n",
       "    }\n",
       "\n",
       "    .dataframe thead th {\n",
       "        text-align: right;\n",
       "    }\n",
       "</style>\n",
       "<table border=\"1\" class=\"dataframe\">\n",
       "  <thead>\n",
       "    <tr style=\"text-align: right;\">\n",
       "      <th></th>\n",
       "      <th>asin</th>\n",
       "      <th>helpful</th>\n",
       "      <th>overall</th>\n",
       "      <th>reviewText</th>\n",
       "      <th>reviewTime</th>\n",
       "      <th>reviewerID</th>\n",
       "      <th>PreProcessed_reviewText</th>\n",
       "      <th>subjectivity_score</th>\n",
       "      <th>flesch_index</th>\n",
       "      <th>polarity_score</th>\n",
       "      <th>entropy_score</th>\n",
       "      <th>DaleChall_Index</th>\n",
       "      <th>helpful_ratio</th>\n",
       "      <th>lex_diversity</th>\n",
       "    </tr>\n",
       "  </thead>\n",
       "  <tbody>\n",
       "    <tr>\n",
       "      <th>0</th>\n",
       "      <td>439893577</td>\n",
       "      <td>[1, 1]</td>\n",
       "      <td>4</td>\n",
       "      <td>Love the magnet easel... great for moving to d...</td>\n",
       "      <td>03 28, 2014</td>\n",
       "      <td>A8R62G708TSCM</td>\n",
       "      <td>love the magnet easel great for moving to diff...</td>\n",
       "      <td>0.65</td>\n",
       "      <td>8.3</td>\n",
       "      <td>0.433333</td>\n",
       "      <td>4.459432</td>\n",
       "      <td>7.588870</td>\n",
       "      <td>0.75</td>\n",
       "      <td>1.000000</td>\n",
       "    </tr>\n",
       "    <tr>\n",
       "      <th>1</th>\n",
       "      <td>439893577</td>\n",
       "      <td>[1, 1]</td>\n",
       "      <td>5</td>\n",
       "      <td>Both sides are magnetic.  A real plus when you...</td>\n",
       "      <td>01 28, 2013</td>\n",
       "      <td>A21KH420DK0ICA</td>\n",
       "      <td>both sides are magnetic  a real plus when your...</td>\n",
       "      <td>0.45</td>\n",
       "      <td>29.4</td>\n",
       "      <td>0.333333</td>\n",
       "      <td>5.497670</td>\n",
       "      <td>6.688048</td>\n",
       "      <td>0.20</td>\n",
       "      <td>0.684211</td>\n",
       "    </tr>\n",
       "    <tr>\n",
       "      <th>2</th>\n",
       "      <td>439893577</td>\n",
       "      <td>[0, 0]</td>\n",
       "      <td>5</td>\n",
       "      <td>Bought one a few years ago for my daughter and...</td>\n",
       "      <td>02 8, 2014</td>\n",
       "      <td>AR29QK6HPFYZ4</td>\n",
       "      <td>bought one a few years ago for my daughter and...</td>\n",
       "      <td>0.45</td>\n",
       "      <td>10.7</td>\n",
       "      <td>0.250000</td>\n",
       "      <td>4.389365</td>\n",
       "      <td>7.461429</td>\n",
       "      <td>0.50</td>\n",
       "      <td>0.741935</td>\n",
       "    </tr>\n",
       "  </tbody>\n",
       "</table>\n",
       "</div>"
      ],
      "text/plain": [
       "        asin helpful  overall  \\\n",
       "0  439893577  [1, 1]        4   \n",
       "1  439893577  [1, 1]        5   \n",
       "2  439893577  [0, 0]        5   \n",
       "\n",
       "                                          reviewText   reviewTime  \\\n",
       "0  Love the magnet easel... great for moving to d...  03 28, 2014   \n",
       "1  Both sides are magnetic.  A real plus when you...  01 28, 2013   \n",
       "2  Bought one a few years ago for my daughter and...   02 8, 2014   \n",
       "\n",
       "       reviewerID                            PreProcessed_reviewText  \\\n",
       "0   A8R62G708TSCM  love the magnet easel great for moving to diff...   \n",
       "1  A21KH420DK0ICA  both sides are magnetic  a real plus when your...   \n",
       "2   AR29QK6HPFYZ4  bought one a few years ago for my daughter and...   \n",
       "\n",
       "   subjectivity_score  flesch_index  polarity_score  entropy_score  \\\n",
       "0                0.65           8.3        0.433333       4.459432   \n",
       "1                0.45          29.4        0.333333       5.497670   \n",
       "2                0.45          10.7        0.250000       4.389365   \n",
       "\n",
       "   DaleChall_Index  helpful_ratio  lex_diversity  \n",
       "0         7.588870           0.75       1.000000  \n",
       "1         6.688048           0.20       0.684211  \n",
       "2         7.461429           0.50       0.741935  "
      ]
     },
     "execution_count": 16,
     "metadata": {},
     "output_type": "execute_result"
    }
   ],
   "source": [
    "toyData.head(3)"
   ]
  },
  {
   "cell_type": "markdown",
   "metadata": {
    "colab_type": "text",
    "id": "5YIvF-Ht03ax"
   },
   "source": [
    "<font color='green'>**Make groups of dataset based on distinct values  of column 'overall' and compute average values of each semantic score for each group**</font>"
   ]
  },
  {
   "cell_type": "code",
   "execution_count": 17,
   "metadata": {
    "colab": {
     "base_uri": "https://localhost:8080/",
     "height": 225
    },
    "colab_type": "code",
    "id": "_1tTzDcCex05",
    "outputId": "6b437c02-f2ba-4a10-d1f0-37a873858875"
   },
   "outputs": [
    {
     "data": {
      "text/html": [
       "<div>\n",
       "<style scoped>\n",
       "    .dataframe tbody tr th:only-of-type {\n",
       "        vertical-align: middle;\n",
       "    }\n",
       "\n",
       "    .dataframe tbody tr th {\n",
       "        vertical-align: top;\n",
       "    }\n",
       "\n",
       "    .dataframe thead th {\n",
       "        text-align: right;\n",
       "    }\n",
       "</style>\n",
       "<table border=\"1\" class=\"dataframe\">\n",
       "  <thead>\n",
       "    <tr style=\"text-align: right;\">\n",
       "      <th></th>\n",
       "      <th>subjectivity_score</th>\n",
       "      <th>flesch_index</th>\n",
       "      <th>polarity_score</th>\n",
       "      <th>entropy_score</th>\n",
       "      <th>DaleChall_Index</th>\n",
       "      <th>helpful_ratio</th>\n",
       "      <th>lex_diversity</th>\n",
       "    </tr>\n",
       "    <tr>\n",
       "      <th>overall</th>\n",
       "      <th></th>\n",
       "      <th></th>\n",
       "      <th></th>\n",
       "      <th></th>\n",
       "      <th></th>\n",
       "      <th></th>\n",
       "      <th></th>\n",
       "    </tr>\n",
       "  </thead>\n",
       "  <tbody>\n",
       "    <tr>\n",
       "      <th>1</th>\n",
       "      <td>0.496235</td>\n",
       "      <td>43.495212</td>\n",
       "      <td>0.019646</td>\n",
       "      <td>5.631696</td>\n",
       "      <td>7.154661</td>\n",
       "      <td>0.618717</td>\n",
       "      <td>0.741960</td>\n",
       "    </tr>\n",
       "    <tr>\n",
       "      <th>2</th>\n",
       "      <td>0.500991</td>\n",
       "      <td>49.697695</td>\n",
       "      <td>0.071962</td>\n",
       "      <td>5.773701</td>\n",
       "      <td>7.160521</td>\n",
       "      <td>0.643680</td>\n",
       "      <td>0.722132</td>\n",
       "    </tr>\n",
       "    <tr>\n",
       "      <th>3</th>\n",
       "      <td>0.504213</td>\n",
       "      <td>48.623105</td>\n",
       "      <td>0.128070</td>\n",
       "      <td>5.727293</td>\n",
       "      <td>7.204525</td>\n",
       "      <td>0.638250</td>\n",
       "      <td>0.727019</td>\n",
       "    </tr>\n",
       "    <tr>\n",
       "      <th>4</th>\n",
       "      <td>0.512541</td>\n",
       "      <td>47.424367</td>\n",
       "      <td>0.183872</td>\n",
       "      <td>5.698653</td>\n",
       "      <td>7.269105</td>\n",
       "      <td>0.642350</td>\n",
       "      <td>0.731439</td>\n",
       "    </tr>\n",
       "    <tr>\n",
       "      <th>5</th>\n",
       "      <td>0.529315</td>\n",
       "      <td>33.991421</td>\n",
       "      <td>0.252520</td>\n",
       "      <td>5.350829</td>\n",
       "      <td>7.307210</td>\n",
       "      <td>0.621209</td>\n",
       "      <td>0.779303</td>\n",
       "    </tr>\n",
       "  </tbody>\n",
       "</table>\n",
       "</div>"
      ],
      "text/plain": [
       "         subjectivity_score  flesch_index  polarity_score  entropy_score  \\\n",
       "overall                                                                    \n",
       "1                  0.496235     43.495212        0.019646       5.631696   \n",
       "2                  0.500991     49.697695        0.071962       5.773701   \n",
       "3                  0.504213     48.623105        0.128070       5.727293   \n",
       "4                  0.512541     47.424367        0.183872       5.698653   \n",
       "5                  0.529315     33.991421        0.252520       5.350829   \n",
       "\n",
       "         DaleChall_Index  helpful_ratio  lex_diversity  \n",
       "overall                                                 \n",
       "1               7.154661       0.618717       0.741960  \n",
       "2               7.160521       0.643680       0.722132  \n",
       "3               7.204525       0.638250       0.727019  \n",
       "4               7.269105       0.642350       0.731439  \n",
       "5               7.307210       0.621209       0.779303  "
      ]
     },
     "execution_count": 17,
     "metadata": {},
     "output_type": "execute_result"
    }
   ],
   "source": [
    "########################################################################################################\n",
    "# Make groups of dataset based on distinct values  of column 'overall' and compute average values of\n",
    "# each semantic score for each group\n",
    "########################################################################################################\n",
    "groupedData=toyData.groupby(['overall']).mean()\n",
    "groupedData"
   ]
  },
  {
   "cell_type": "markdown",
   "metadata": {
    "colab_type": "text",
    "id": "M0qmOjTY1AEc"
   },
   "source": [
    "<font color='green'>**Add column 'overall' to grouped data**</font>"
   ]
  },
  {
   "cell_type": "code",
   "execution_count": 18,
   "metadata": {
    "colab": {},
    "colab_type": "code",
    "id": "QHGDWYFbe0Fa"
   },
   "outputs": [],
   "source": [
    "########################################################################################################\n",
    "# Add column 'overall' to grouped data\n",
    "########################################################################################################\n",
    "groupedData['overall']=[1,2,3,4,5]"
   ]
  },
  {
   "cell_type": "markdown",
   "metadata": {
    "colab_type": "text",
    "id": "tlB8zLJu1H_o"
   },
   "source": [
    "<font color='green'>**Visualize line plot on grouped data for 'flesch_index' column vs 'overall' column**</font>"
   ]
  },
  {
   "cell_type": "code",
   "execution_count": 19,
   "metadata": {
    "colab": {
     "base_uri": "https://localhost:8080/",
     "height": 279
    },
    "colab_type": "code",
    "id": "LbzOXbCSe2mq",
    "outputId": "2475191d-42b1-432b-c768-7cbd940adc2b"
   },
   "outputs": [
    {
     "data": {
      "image/png": "[encoded data removed]",
      "text/plain": [
       "<Figure size 432x288 with 1 Axes>"
      ]
     },
     "metadata": {
      "needs_background": "light"
     },
     "output_type": "display_data"
    }
   ],
   "source": [
    "########################################################################################################\n",
    "# Visualize line plot on grouped data for 'flesch_index' column vs 'overall' column\n",
    "########################################################################################################\n",
    "lines=groupedData.plot.line(x='overall',y='flesch_index')"
   ]
  },
  {
   "cell_type": "markdown",
   "metadata": {
    "colab_type": "text",
    "id": "oeggJ2S01U2E"
   },
   "source": [
    "<font color='green'>**Compute covariance between 'overall' and 'flesch_index' columns**</font>"
   ]
  },
  {
   "cell_type": "code",
   "execution_count": 20,
   "metadata": {
    "colab": {
     "base_uri": "https://localhost:8080/",
     "height": 50
    },
    "colab_type": "code",
    "id": "yNBXsNrbe6NK",
    "outputId": "06d4ab6f-a92e-4242-fbd0-1bff93eed57c"
   },
   "outputs": [
    {
     "name": "stdout",
     "output_type": "stream",
     "text": [
      "[[ 9.92660775e-01 -5.31190765e+00]\n",
      " [-5.31190765e+00  1.96314211e+03]]\n"
     ]
    }
   ],
   "source": [
    "########################################################################################################\n",
    "# Compute covariance between 'overall' and 'flesch_index' columns\n",
    "########################################################################################################\n",
    "covariance = cov(toyData['overall'], toyData['flesch_index'])\n",
    "print(covariance)"
   ]
  },
  {
   "cell_type": "markdown",
   "metadata": {
    "colab_type": "text",
    "id": "U_ES1Rnn1h0v"
   },
   "source": [
    "<font color='green'>**Compute pearson correlation between 'overall' and 'flesch_index' columns**</font>"
   ]
  },
  {
   "cell_type": "code",
   "execution_count": 21,
   "metadata": {
    "colab": {
     "base_uri": "https://localhost:8080/",
     "height": 34
    },
    "colab_type": "code",
    "id": "PiuM9yfpe9Cs",
    "outputId": "619e398b-1bf7-441c-89be-f93eaeb7a713"
   },
   "outputs": [
    {
     "name": "stdout",
     "output_type": "stream",
     "text": [
      "Pearsons correlation between rating ans flesch index is: -0.120\n"
     ]
    }
   ],
   "source": [
    "########################################################################################################\n",
    "# Compute pearson correlation between 'overall' and 'flesch_index' columns\n",
    "########################################################################################################\n",
    "corr, _ = pearsonr(toyData['overall'], toyData['flesch_index'])\n",
    "print('Pearsons correlation between rating ans flesch index is: %.3f' % corr)"
   ]
  },
  {
   "cell_type": "markdown",
   "metadata": {
    "colab_type": "text",
    "id": "EYa38YPQ10LP"
   },
   "source": [
    "<font color='green'>**Compute spearnmans correlation between 'overall' and 'flesch_index' columns**</font>"
   ]
  },
  {
   "cell_type": "code",
   "execution_count": 22,
   "metadata": {
    "colab": {
     "base_uri": "https://localhost:8080/",
     "height": 34
    },
    "colab_type": "code",
    "id": "Zh6z-KMfe_43",
    "outputId": "56313a7c-b6d3-424c-eb86-cc432031239d"
   },
   "outputs": [
    {
     "name": "stdout",
     "output_type": "stream",
     "text": [
      "Spearmans correlation between rating ans flesch index is: -0.208\n"
     ]
    }
   ],
   "source": [
    "########################################################################################################\n",
    "# Compute spearnmans correlation between 'overall' and 'flesch_index' columns\n",
    "########################################################################################################\n",
    "corr, _ = spearmanr(toyData['overall'], toyData['flesch_index'])\n",
    "print('Spearmans correlation between rating ans flesch index is: %.3f' % corr)"
   ]
  },
  {
   "cell_type": "markdown",
   "metadata": {
    "colab_type": "text",
    "id": "wVLHMcaf2Kqf"
   },
   "source": [
    "<font color='green'>**Visualize distplot of 'flesch_index' column**</font>"
   ]
  },
  {
   "cell_type": "code",
   "execution_count": 23,
   "metadata": {
    "colab": {
     "base_uri": "https://localhost:8080/",
     "height": 280
    },
    "colab_type": "code",
    "id": "1cY67GkwfE-x",
    "outputId": "c49620aa-4251-4596-c967-0b4aa309be2f"
   },
   "outputs": [
    {
     "data": {
      "image/png": "[encoded data removed]",
      "text/plain": [
       "<Figure size 432x288 with 1 Axes>"
      ]
     },
     "metadata": {
      "needs_background": "light"
     },
     "output_type": "display_data"
    }
   ],
   "source": [
    "########################################################################################################\n",
    "# Visualize distplot of 'flesch_index' column\n",
    "########################################################################################################\n",
    "sns.distplot(toyData.flesch_index)\n",
    "plt.show()"
   ]
  },
  {
   "cell_type": "markdown",
   "metadata": {
    "colab_type": "text",
    "id": "NC4I44fh2dfB"
   },
   "source": [
    "<font color='green'>**Visualize jointplot of 'flesch_index' column again 'overall' column**</font>"
   ]
  },
  {
   "cell_type": "code",
   "execution_count": 24,
   "metadata": {
    "colab": {
     "base_uri": "https://localhost:8080/",
     "height": 441
    },
    "colab_type": "code",
    "id": "IflQr46bfMt8",
    "outputId": "b83f89ec-239e-41d8-b487-495fd66040dc"
   },
   "outputs": [
    {
     "data": {
      "image/png": "[encoded data removed]",
      "text/plain": [
       "<Figure size 432x432 with 3 Axes>"
      ]
     },
     "metadata": {
      "needs_background": "light"
     },
     "output_type": "display_data"
    }
   ],
   "source": [
    "########################################################################################################\n",
    "# Visualize jointplot of 'flesch_index' column again 'overall' column\n",
    "########################################################################################################\n",
    "sns.jointplot(data=toyData, x='overall', y='flesch_index', kind='reg', color='g')\n",
    "plt.show()"
   ]
  }
 ],
 "metadata": {
  "colab": {
   "collapsed_sections": [],
   "name": "Visualize_Score_Flesch_Index.ipynb",
   "provenance": []
  },
  "kernelspec": {
   "display_name": "Python 3",
   "language": "python",
   "name": "python3"
  },
  "language_info": {
   "codemirror_mode": {
    "name": "ipython",
    "version": 3
   },
   "file_extension": ".py",
   "mimetype": "text/x-python",
   "name": "python",
   "nbconvert_exporter": "python",
   "pygments_lexer": "ipython3",
   "version": "3.7.1"
  }
 },
 "nbformat": 4,
 "nbformat_minor": 1
}
