{
  "nbformat": 4,
  "nbformat_minor": 0,
  "metadata": {
    "colab": {
      "name": "Visualize_Score_Entropy.ipynb",
      "provenance": []
    },
    "kernelspec": {
      "name": "python3",
      "display_name": "Python 3"
    }
  },
  "cells": [
    {
      "cell_type": "code",
      "metadata": {
        "id": "GTiFtmRaNOnI",
        "colab_type": "code",
        "outputId": "e5ac340b-9d6b-443b-e891-cff6851c2266",
        "colab": {
          "base_uri": "https://localhost:8080/",
          "height": 71
        }
      },
      "source": [
        "########################################################################################################\n",
        "# IMPORT LIBRARIES\n",
        "########################################################################################################\n",
        "import pandas as pd\n",
        "import numpy as np\n",
        "import seaborn as sns\n",
        "import matplotlib.pyplot as plt\n",
        "from numpy import cov\n",
        "from scipy.stats import pearsonr\n",
        "from scipy.stats import spearmanr"
      ],
      "execution_count": 1,
      "outputs": [
        {
          "output_type": "stream",
          "text": [
            "/usr/local/lib/python3.6/dist-packages/statsmodels/tools/_testing.py:19: FutureWarning: pandas.util.testing is deprecated. Use the functions in the public API at pandas.testing instead.\n",
            "  import pandas.util.testing as tm\n"
          ],
          "name": "stderr"
        }
      ]
    },
    {
      "cell_type": "code",
      "metadata": {
        "id": "rWk6H-GZNX3r",
        "colab_type": "code",
        "colab": {}
      },
      "source": [
        "########################################################################################################\n",
        "# Read dataset obtained from previous step where semantic scores are calculated\n",
        "########################################################################################################\n",
        "toyData=pd.read_csv(\"Toys_and_Games.csv\");"
      ],
      "execution_count": 0,
      "outputs": []
    },
    {
      "cell_type": "code",
      "metadata": {
        "id": "P0_19I1zNZc6",
        "colab_type": "code",
        "outputId": "2556be85-8dce-4633-d3e3-1533ea1a2ab7",
        "colab": {
          "base_uri": "https://localhost:8080/",
          "height": 366
        }
      },
      "source": [
        "toyData.head(3)"
      ],
      "execution_count": 3,
      "outputs": [
        {
          "output_type": "execute_result",
          "data": {
            "text/html": [
              "<div>\n",
              "<style scoped>\n",
              "    .dataframe tbody tr th:only-of-type {\n",
              "        vertical-align: middle;\n",
              "    }\n",
              "\n",
              "    .dataframe tbody tr th {\n",
              "        vertical-align: top;\n",
              "    }\n",
              "\n",
              "    .dataframe thead th {\n",
              "        text-align: right;\n",
              "    }\n",
              "</style>\n",
              "<table border=\"1\" class=\"dataframe\">\n",
              "  <thead>\n",
              "    <tr style=\"text-align: right;\">\n",
              "      <th></th>\n",
              "      <th>asin</th>\n",
              "      <th>helpful</th>\n",
              "      <th>overall</th>\n",
              "      <th>reviewText</th>\n",
              "      <th>reviewTime</th>\n",
              "      <th>reviewerID</th>\n",
              "      <th>PreProcessed_reviewText</th>\n",
              "      <th>subjectivity_score</th>\n",
              "      <th>flesch_index</th>\n",
              "      <th>polarity_score</th>\n",
              "      <th>entropy_score</th>\n",
              "      <th>DaleChall_Index</th>\n",
              "      <th>helpful_ratio</th>\n",
              "      <th>lex_diversity</th>\n",
              "    </tr>\n",
              "  </thead>\n",
              "  <tbody>\n",
              "    <tr>\n",
              "      <th>0</th>\n",
              "      <td>439893577</td>\n",
              "      <td>[1, 1]</td>\n",
              "      <td>4</td>\n",
              "      <td>Love the magnet easel... great for moving to d...</td>\n",
              "      <td>03 28, 2014</td>\n",
              "      <td>A8R62G708TSCM</td>\n",
              "      <td>love the magnet easel great for moving to diff...</td>\n",
              "      <td>0.65</td>\n",
              "      <td>8.3</td>\n",
              "      <td>0.433333</td>\n",
              "      <td>4.459432</td>\n",
              "      <td>7.588870</td>\n",
              "      <td>0.75</td>\n",
              "      <td>1.000000</td>\n",
              "    </tr>\n",
              "    <tr>\n",
              "      <th>1</th>\n",
              "      <td>439893577</td>\n",
              "      <td>[1, 1]</td>\n",
              "      <td>5</td>\n",
              "      <td>Both sides are magnetic.  A real plus when you...</td>\n",
              "      <td>01 28, 2013</td>\n",
              "      <td>A21KH420DK0ICA</td>\n",
              "      <td>both sides are magnetic  a real plus when your...</td>\n",
              "      <td>0.45</td>\n",
              "      <td>29.4</td>\n",
              "      <td>0.333333</td>\n",
              "      <td>5.497670</td>\n",
              "      <td>6.688048</td>\n",
              "      <td>0.20</td>\n",
              "      <td>0.684211</td>\n",
              "    </tr>\n",
              "    <tr>\n",
              "      <th>2</th>\n",
              "      <td>439893577</td>\n",
              "      <td>[0, 0]</td>\n",
              "      <td>5</td>\n",
              "      <td>Bought one a few years ago for my daughter and...</td>\n",
              "      <td>02 8, 2014</td>\n",
              "      <td>AR29QK6HPFYZ4</td>\n",
              "      <td>bought one a few years ago for my daughter and...</td>\n",
              "      <td>0.45</td>\n",
              "      <td>10.7</td>\n",
              "      <td>0.250000</td>\n",
              "      <td>4.389365</td>\n",
              "      <td>7.461429</td>\n",
              "      <td>0.50</td>\n",
              "      <td>0.741935</td>\n",
              "    </tr>\n",
              "  </tbody>\n",
              "</table>\n",
              "</div>"
            ],
            "text/plain": [
              "        asin helpful  overall  ... DaleChall_Index helpful_ratio lex_diversity\n",
              "0  439893577  [1, 1]        4  ...        7.588870          0.75      1.000000\n",
              "1  439893577  [1, 1]        5  ...        6.688048          0.20      0.684211\n",
              "2  439893577  [0, 0]        5  ...        7.461429          0.50      0.741935\n",
              "\n",
              "[3 rows x 14 columns]"
            ]
          },
          "metadata": {
            "tags": []
          },
          "execution_count": 3
        }
      ]
    },
    {
      "cell_type": "code",
      "metadata": {
        "id": "y8e_sFMxNcVz",
        "colab_type": "code",
        "outputId": "aec1172c-4eec-4270-a0d6-f1da275c657d",
        "colab": {
          "base_uri": "https://localhost:8080/",
          "height": 235
        }
      },
      "source": [
        "########################################################################################################\n",
        "# Make groups of dataset based on distinct values  of column 'overall' and compute average values of\n",
        "# each semantic score for each group\n",
        "########################################################################################################\n",
        "groupedData=toyData.groupby(['overall']).mean()\n",
        "groupedData"
      ],
      "execution_count": 4,
      "outputs": [
        {
          "output_type": "execute_result",
          "data": {
            "text/html": [
              "<div>\n",
              "<style scoped>\n",
              "    .dataframe tbody tr th:only-of-type {\n",
              "        vertical-align: middle;\n",
              "    }\n",
              "\n",
              "    .dataframe tbody tr th {\n",
              "        vertical-align: top;\n",
              "    }\n",
              "\n",
              "    .dataframe thead th {\n",
              "        text-align: right;\n",
              "    }\n",
              "</style>\n",
              "<table border=\"1\" class=\"dataframe\">\n",
              "  <thead>\n",
              "    <tr style=\"text-align: right;\">\n",
              "      <th></th>\n",
              "      <th>subjectivity_score</th>\n",
              "      <th>flesch_index</th>\n",
              "      <th>polarity_score</th>\n",
              "      <th>entropy_score</th>\n",
              "      <th>DaleChall_Index</th>\n",
              "      <th>helpful_ratio</th>\n",
              "      <th>lex_diversity</th>\n",
              "    </tr>\n",
              "    <tr>\n",
              "      <th>overall</th>\n",
              "      <th></th>\n",
              "      <th></th>\n",
              "      <th></th>\n",
              "      <th></th>\n",
              "      <th></th>\n",
              "      <th></th>\n",
              "      <th></th>\n",
              "    </tr>\n",
              "  </thead>\n",
              "  <tbody>\n",
              "    <tr>\n",
              "      <th>1</th>\n",
              "      <td>0.492402</td>\n",
              "      <td>40.444632</td>\n",
              "      <td>0.021819</td>\n",
              "      <td>5.633235</td>\n",
              "      <td>7.094508</td>\n",
              "      <td>0.673404</td>\n",
              "      <td>0.742776</td>\n",
              "    </tr>\n",
              "    <tr>\n",
              "      <th>2</th>\n",
              "      <td>0.499334</td>\n",
              "      <td>44.142642</td>\n",
              "      <td>0.077320</td>\n",
              "      <td>5.716246</td>\n",
              "      <td>7.075053</td>\n",
              "      <td>0.694276</td>\n",
              "      <td>0.726427</td>\n",
              "    </tr>\n",
              "    <tr>\n",
              "      <th>3</th>\n",
              "      <td>0.497547</td>\n",
              "      <td>43.820796</td>\n",
              "      <td>0.121981</td>\n",
              "      <td>5.671260</td>\n",
              "      <td>7.130903</td>\n",
              "      <td>0.689986</td>\n",
              "      <td>0.734179</td>\n",
              "    </tr>\n",
              "    <tr>\n",
              "      <th>4</th>\n",
              "      <td>0.501658</td>\n",
              "      <td>42.613173</td>\n",
              "      <td>0.173935</td>\n",
              "      <td>5.634815</td>\n",
              "      <td>7.177140</td>\n",
              "      <td>0.698044</td>\n",
              "      <td>0.739376</td>\n",
              "    </tr>\n",
              "    <tr>\n",
              "      <th>5</th>\n",
              "      <td>0.512155</td>\n",
              "      <td>35.097654</td>\n",
              "      <td>0.235291</td>\n",
              "      <td>5.434490</td>\n",
              "      <td>7.213846</td>\n",
              "      <td>0.683170</td>\n",
              "      <td>0.766905</td>\n",
              "    </tr>\n",
              "  </tbody>\n",
              "</table>\n",
              "</div>"
            ],
            "text/plain": [
              "         subjectivity_score  flesch_index  ...  helpful_ratio  lex_diversity\n",
              "overall                                    ...                              \n",
              "1                  0.492402     40.444632  ...       0.673404       0.742776\n",
              "2                  0.499334     44.142642  ...       0.694276       0.726427\n",
              "3                  0.497547     43.820796  ...       0.689986       0.734179\n",
              "4                  0.501658     42.613173  ...       0.698044       0.739376\n",
              "5                  0.512155     35.097654  ...       0.683170       0.766905\n",
              "\n",
              "[5 rows x 7 columns]"
            ]
          },
          "metadata": {
            "tags": []
          },
          "execution_count": 4
        }
      ]
    },
    {
      "cell_type": "code",
      "metadata": {
        "id": "1RrKqLn3Nm9m",
        "colab_type": "code",
        "colab": {}
      },
      "source": [
        "########################################################################################################\n",
        "# Add column 'overall' to grouped data\n",
        "########################################################################################################\n",
        "groupedData['overall']=[1,2,3,4,5]"
      ],
      "execution_count": 0,
      "outputs": []
    },
    {
      "cell_type": "code",
      "metadata": {
        "id": "lfDlsEQgNqKg",
        "colab_type": "code",
        "outputId": "3a817750-d5f1-4644-9844-7a7e926b512d",
        "colab": {
          "base_uri": "https://localhost:8080/",
          "height": 279
        }
      },
      "source": [
        "########################################################################################################\n",
        "# Visualize line plot on grouped data for 'entropy_score' column vs 'overall' column\n",
        "########################################################################################################\n",
        "lines=groupedData.plot.line(x='overall',y='entropy_score')"
      ],
      "execution_count": 6,
      "outputs": [
        {
          "output_type": "display_data",
          "data": {
            "image/png": "[encoded data removed]",
            "text/plain": [
              "<Figure size 432x288 with 1 Axes>"
            ]
          },
          "metadata": {
            "tags": [],
            "needs_background": "light"
          }
        }
      ]
    },
    {
      "cell_type": "code",
      "metadata": {
        "id": "6QgJrdm1N_Wh",
        "colab_type": "code",
        "outputId": "5d8cd5a3-64da-48ba-cbd8-cba1ae7bf009",
        "colab": {
          "base_uri": "https://localhost:8080/",
          "height": 51
        }
      },
      "source": [
        "########################################################################################################\n",
        "# Compute covariance between 'overall' and 'entropy_score' columns\n",
        "########################################################################################################\n",
        "covariance = cov(toyData['overall'], toyData['entropy_score'])\n",
        "print(covariance)"
      ],
      "execution_count": 7,
      "outputs": [
        {
          "output_type": "stream",
          "text": [
            "[[ 1.01608932 -0.091243  ]\n",
            " [-0.091243    0.59599869]]\n"
          ],
          "name": "stdout"
        }
      ]
    },
    {
      "cell_type": "code",
      "metadata": {
        "id": "aOoXdbZXOHSb",
        "colab_type": "code",
        "outputId": "54061a35-7827-40fa-905f-0f6804316ae4",
        "colab": {
          "base_uri": "https://localhost:8080/",
          "height": 34
        }
      },
      "source": [
        "########################################################################################################\n",
        "# Compute pearson correlation between 'overall' and 'entropy_score' columns\n",
        "########################################################################################################\n",
        "corr, _ = pearsonr(toyData['overall'], toyData['entropy_score'])\n",
        "print('Pearsons correlation between rating and entropy_score is: %.3f' % corr)"
      ],
      "execution_count": 8,
      "outputs": [
        {
          "output_type": "stream",
          "text": [
            "Pearsons correlation between rating and entropy_score is: -0.117\n"
          ],
          "name": "stdout"
        }
      ]
    },
    {
      "cell_type": "code",
      "metadata": {
        "id": "VSTxVkZfOQQb",
        "colab_type": "code",
        "outputId": "ee1c04d3-7912-4eb9-a854-b918ff9b5ac7",
        "colab": {
          "base_uri": "https://localhost:8080/",
          "height": 34
        }
      },
      "source": [
        "########################################################################################################\n",
        "# Compute spearnmans correlation between 'overall' and 'entropy_score' columns\n",
        "########################################################################################################\n",
        "corr, _ = spearmanr(toyData['overall'], toyData['entropy_score'])\n",
        "print('Spearmans correlation between rating and entropy_score is: %.3f' % corr)"
      ],
      "execution_count": 9,
      "outputs": [
        {
          "output_type": "stream",
          "text": [
            "Spearmans correlation between rating and entropy_score is: -0.138\n"
          ],
          "name": "stdout"
        }
      ]
    },
    {
      "cell_type": "code",
      "metadata": {
        "id": "IANp-3V5ObrT",
        "colab_type": "code",
        "outputId": "628b4fc7-9bb6-4b5e-f058-f622509bae5f",
        "colab": {
          "base_uri": "https://localhost:8080/",
          "height": 280
        }
      },
      "source": [
        "########################################################################################################\n",
        "# Visualize distplot of 'entropy_score' column\n",
        "########################################################################################################\n",
        "sns.distplot(toyData.entropy_score)\n",
        "plt.show()"
      ],
      "execution_count": 10,
      "outputs": [
        {
          "output_type": "display_data",
          "data": {
            "image/png": "[encoded data removed]",
            "text/plain": [
              "<Figure size 432x288 with 1 Axes>"
            ]
          },
          "metadata": {
            "tags": [],
            "needs_background": "light"
          }
        }
      ]
    },
    {
      "cell_type": "code",
      "metadata": {
        "id": "5BKg_TDBOo53",
        "colab_type": "code",
        "outputId": "e9b34e67-9732-46c7-f442-242f48a0c6bd",
        "colab": {
          "base_uri": "https://localhost:8080/",
          "height": 441
        }
      },
      "source": [
        "########################################################################################################\n",
        "# Visualize jointplot of 'entropy_score' column again 'overall' column\n",
        "########################################################################################################\n",
        "sns.jointplot(data=toyData, x='overall', y='entropy_score', kind='reg', color='g')\n",
        "plt.show()"
      ],
      "execution_count": 11,
      "outputs": [
        {
          "output_type": "display_data",
          "data": {
            "image/png": "[encoded data removed]",
            "text/plain": [
              "<Figure size 432x432 with 3 Axes>"
            ]
          },
          "metadata": {
            "tags": [],
            "needs_background": "light"
          }
        }
      ]
    }
  ]
}