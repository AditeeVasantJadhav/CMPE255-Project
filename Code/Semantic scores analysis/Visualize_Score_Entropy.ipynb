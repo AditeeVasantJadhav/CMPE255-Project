{
  "nbformat": 4,
  "nbformat_minor": 0,
  "metadata": {
    "colab": {
      "name": "Visualize_Score_Polarity.ipynb",
      "provenance": []
    },
    "kernelspec": {
      "name": "python3",
      "display_name": "Python 3"
    }
  },
  "cells": [
    {
      "cell_type": "code",
      "metadata": {
        "id": "GTiFtmRaNOnI",
        "colab_type": "code",
        "colab": {
          "base_uri": "https://localhost:8080/",
          "height": 71
        },
        "outputId": "7c6d7ced-1c29-4e35-bc50-45d21ce44c3f"
      },
      "source": [
        "########################################################################################################\n",
        "# IMPORT LIBRARIES\n",
        "########################################################################################################\n",
        "import pandas as pd\n",
        "import numpy as np\n",
        "import seaborn as sns\n",
        "import matplotlib.pyplot as plt\n",
        "from numpy import cov\n",
        "from scipy.stats import pearsonr\n",
        "from scipy.stats import spearmanr"
      ],
      "execution_count": 1,
      "outputs": [
        {
          "output_type": "stream",
          "text": [
            "/usr/local/lib/python3.6/dist-packages/statsmodels/tools/_testing.py:19: FutureWarning: pandas.util.testing is deprecated. Use the functions in the public API at pandas.testing instead.\n",
            "  import pandas.util.testing as tm\n"
          ],
          "name": "stderr"
        }
      ]
    },
    {
      "cell_type": "code",
      "metadata": {
        "id": "rWk6H-GZNX3r",
        "colab_type": "code",
        "colab": {}
      },
      "source": [
        "########################################################################################################\n",
        "# Read dataset obtained from previous step where semantic scores are calculated\n",
        "########################################################################################################\n",
        "toyData=pd.read_csv(\"Toys_and_Games.csv\");"
      ],
      "execution_count": 0,
      "outputs": []
    },
    {
      "cell_type": "code",
      "metadata": {
        "id": "P0_19I1zNZc6",
        "colab_type": "code",
        "colab": {
          "base_uri": "https://localhost:8080/",
          "height": 366
        },
        "outputId": "ef9fe9c8-ec85-4d5d-9b55-3992fea920b9"
      },
      "source": [
        "toyData.head(3)"
      ],
      "execution_count": 3,
      "outputs": [
        {
          "output_type": "execute_result",
          "data": {
            "text/html": [
              "<div>\n",
              "<style scoped>\n",
              "    .dataframe tbody tr th:only-of-type {\n",
              "        vertical-align: middle;\n",
              "    }\n",
              "\n",
              "    .dataframe tbody tr th {\n",
              "        vertical-align: top;\n",
              "    }\n",
              "\n",
              "    .dataframe thead th {\n",
              "        text-align: right;\n",
              "    }\n",
              "</style>\n",
              "<table border=\"1\" class=\"dataframe\">\n",
              "  <thead>\n",
              "    <tr style=\"text-align: right;\">\n",
              "      <th></th>\n",
              "      <th>asin</th>\n",
              "      <th>helpful</th>\n",
              "      <th>overall</th>\n",
              "      <th>reviewText</th>\n",
              "      <th>reviewTime</th>\n",
              "      <th>reviewerID</th>\n",
              "      <th>PreProcessed_reviewText</th>\n",
              "      <th>subjectivity_score</th>\n",
              "      <th>flesch_index</th>\n",
              "      <th>polarity_score</th>\n",
              "      <th>entropy_score</th>\n",
              "      <th>DaleChall_Index</th>\n",
              "      <th>helpful_ratio</th>\n",
              "      <th>lex_diversity</th>\n",
              "    </tr>\n",
              "  </thead>\n",
              "  <tbody>\n",
              "    <tr>\n",
              "      <th>0</th>\n",
              "      <td>439893577</td>\n",
              "      <td>[1, 1]</td>\n",
              "      <td>4</td>\n",
              "      <td>Love the magnet easel... great for moving to d...</td>\n",
              "      <td>03 28, 2014</td>\n",
              "      <td>A8R62G708TSCM</td>\n",
              "      <td>love the magnet easel great for moving to diff...</td>\n",
              "      <td>0.65</td>\n",
              "      <td>8.3</td>\n",
              "      <td>0.433333</td>\n",
              "      <td>4.459432</td>\n",
              "      <td>7.588870</td>\n",
              "      <td>0.75</td>\n",
              "      <td>1.000000</td>\n",
              "    </tr>\n",
              "    <tr>\n",
              "      <th>1</th>\n",
              "      <td>439893577</td>\n",
              "      <td>[1, 1]</td>\n",
              "      <td>5</td>\n",
              "      <td>Both sides are magnetic.  A real plus when you...</td>\n",
              "      <td>01 28, 2013</td>\n",
              "      <td>A21KH420DK0ICA</td>\n",
              "      <td>both sides are magnetic  a real plus when your...</td>\n",
              "      <td>0.45</td>\n",
              "      <td>29.4</td>\n",
              "      <td>0.333333</td>\n",
              "      <td>5.497670</td>\n",
              "      <td>6.688048</td>\n",
              "      <td>0.20</td>\n",
              "      <td>0.684211</td>\n",
              "    </tr>\n",
              "    <tr>\n",
              "      <th>2</th>\n",
              "      <td>439893577</td>\n",
              "      <td>[0, 0]</td>\n",
              "      <td>5</td>\n",
              "      <td>Bought one a few years ago for my daughter and...</td>\n",
              "      <td>02 8, 2014</td>\n",
              "      <td>AR29QK6HPFYZ4</td>\n",
              "      <td>bought one a few years ago for my daughter and...</td>\n",
              "      <td>0.45</td>\n",
              "      <td>10.7</td>\n",
              "      <td>0.250000</td>\n",
              "      <td>4.389365</td>\n",
              "      <td>7.461429</td>\n",
              "      <td>0.50</td>\n",
              "      <td>0.741935</td>\n",
              "    </tr>\n",
              "  </tbody>\n",
              "</table>\n",
              "</div>"
            ],
            "text/plain": [
              "        asin helpful  overall  ... DaleChall_Index helpful_ratio lex_diversity\n",
              "0  439893577  [1, 1]        4  ...        7.588870          0.75      1.000000\n",
              "1  439893577  [1, 1]        5  ...        6.688048          0.20      0.684211\n",
              "2  439893577  [0, 0]        5  ...        7.461429          0.50      0.741935\n",
              "\n",
              "[3 rows x 14 columns]"
            ]
          },
          "metadata": {
            "tags": []
          },
          "execution_count": 3
        }
      ]
    },
    {
      "cell_type": "code",
      "metadata": {
        "id": "y8e_sFMxNcVz",
        "colab_type": "code",
        "colab": {
          "base_uri": "https://localhost:8080/",
          "height": 235
        },
        "outputId": "cb67d211-d2e9-48a1-8522-3506d8ad403c"
      },
      "source": [
        "########################################################################################################\n",
        "# Make groups of dataset based on distinct values  of column 'overall' and compute average values of\n",
        "# each semantic score for each group\n",
        "########################################################################################################\n",
        "groupedData=toyData.groupby(['overall']).mean()\n",
        "groupedData"
      ],
      "execution_count": 4,
      "outputs": [
        {
          "output_type": "execute_result",
          "data": {
            "text/html": [
              "<div>\n",
              "<style scoped>\n",
              "    .dataframe tbody tr th:only-of-type {\n",
              "        vertical-align: middle;\n",
              "    }\n",
              "\n",
              "    .dataframe tbody tr th {\n",
              "        vertical-align: top;\n",
              "    }\n",
              "\n",
              "    .dataframe thead th {\n",
              "        text-align: right;\n",
              "    }\n",
              "</style>\n",
              "<table border=\"1\" class=\"dataframe\">\n",
              "  <thead>\n",
              "    <tr style=\"text-align: right;\">\n",
              "      <th></th>\n",
              "      <th>subjectivity_score</th>\n",
              "      <th>flesch_index</th>\n",
              "      <th>polarity_score</th>\n",
              "      <th>entropy_score</th>\n",
              "      <th>DaleChall_Index</th>\n",
              "      <th>helpful_ratio</th>\n",
              "      <th>lex_diversity</th>\n",
              "    </tr>\n",
              "    <tr>\n",
              "      <th>overall</th>\n",
              "      <th></th>\n",
              "      <th></th>\n",
              "      <th></th>\n",
              "      <th></th>\n",
              "      <th></th>\n",
              "      <th></th>\n",
              "      <th></th>\n",
              "    </tr>\n",
              "  </thead>\n",
              "  <tbody>\n",
              "    <tr>\n",
              "      <th>1</th>\n",
              "      <td>0.490288</td>\n",
              "      <td>40.075209</td>\n",
              "      <td>0.014873</td>\n",
              "      <td>5.627290</td>\n",
              "      <td>7.118534</td>\n",
              "      <td>0.677282</td>\n",
              "      <td>0.743511</td>\n",
              "    </tr>\n",
              "    <tr>\n",
              "      <th>2</th>\n",
              "      <td>0.494996</td>\n",
              "      <td>43.800651</td>\n",
              "      <td>0.064431</td>\n",
              "      <td>5.688458</td>\n",
              "      <td>7.103488</td>\n",
              "      <td>0.694040</td>\n",
              "      <td>0.731196</td>\n",
              "    </tr>\n",
              "    <tr>\n",
              "      <th>3</th>\n",
              "      <td>0.494427</td>\n",
              "      <td>46.525150</td>\n",
              "      <td>0.107736</td>\n",
              "      <td>5.694061</td>\n",
              "      <td>7.152669</td>\n",
              "      <td>0.701247</td>\n",
              "      <td>0.727437</td>\n",
              "    </tr>\n",
              "    <tr>\n",
              "      <th>4</th>\n",
              "      <td>0.495295</td>\n",
              "      <td>46.149033</td>\n",
              "      <td>0.157299</td>\n",
              "      <td>5.671198</td>\n",
              "      <td>7.175735</td>\n",
              "      <td>0.712894</td>\n",
              "      <td>0.733535</td>\n",
              "    </tr>\n",
              "    <tr>\n",
              "      <th>5</th>\n",
              "      <td>0.503174</td>\n",
              "      <td>37.072874</td>\n",
              "      <td>0.213936</td>\n",
              "      <td>5.457308</td>\n",
              "      <td>7.195066</td>\n",
              "      <td>0.699204</td>\n",
              "      <td>0.762014</td>\n",
              "    </tr>\n",
              "  </tbody>\n",
              "</table>\n",
              "</div>"
            ],
            "text/plain": [
              "         subjectivity_score  flesch_index  ...  helpful_ratio  lex_diversity\n",
              "overall                                    ...                              \n",
              "1                  0.490288     40.075209  ...       0.677282       0.743511\n",
              "2                  0.494996     43.800651  ...       0.694040       0.731196\n",
              "3                  0.494427     46.525150  ...       0.701247       0.727437\n",
              "4                  0.495295     46.149033  ...       0.712894       0.733535\n",
              "5                  0.503174     37.072874  ...       0.699204       0.762014\n",
              "\n",
              "[5 rows x 7 columns]"
            ]
          },
          "metadata": {
            "tags": []
          },
          "execution_count": 4
        }
      ]
    },
    {
      "cell_type": "code",
      "metadata": {
        "id": "1RrKqLn3Nm9m",
        "colab_type": "code",
        "colab": {}
      },
      "source": [
        "########################################################################################################\n",
        "# Add column 'overall' to grouped data\n",
        "########################################################################################################\n",
        "groupedData['overall']=[1,2,3,4,5]"
      ],
      "execution_count": 0,
      "outputs": []
    },
    {
      "cell_type": "code",
      "metadata": {
        "id": "lfDlsEQgNqKg",
        "colab_type": "code",
        "colab": {
          "base_uri": "https://localhost:8080/",
          "height": 279
        },
        "outputId": "6784c9e9-2f7c-4d08-a1c2-c897f3806d18"
      },
      "source": [
        "########################################################################################################\n",
        "# Visualize line plot on grouped data for 'polarity_score' column vs 'overall' column\n",
        "########################################################################################################\n",
        "lines=groupedData.plot.line(x='overall',y='polarity_score')"
      ],
      "execution_count": 6,
      "outputs": [
        {
          "output_type": "display_data",
          "data": {
            "image/png": "[encoded data removed]",
            "text/plain": [
              "<Figure size 432x288 with 1 Axes>"
            ]
          },
          "metadata": {
            "tags": [],
            "needs_background": "light"
          }
        }
      ]
    },
    {
      "cell_type": "code",
      "metadata": {
        "id": "6QgJrdm1N_Wh",
        "colab_type": "code",
        "colab": {
          "base_uri": "https://localhost:8080/",
          "height": 51
        },
        "outputId": "73c6a85e-be7c-418b-a395-06dfc67db8cc"
      },
      "source": [
        "########################################################################################################\n",
        "# Compute covariance between 'overall' and 'polarity_score' columns\n",
        "########################################################################################################\n",
        "covariance = cov(toyData['overall'], toyData['polarity_score'])\n",
        "print(covariance)"
      ],
      "execution_count": 7,
      "outputs": [
        {
          "output_type": "stream",
          "text": [
            "[[0.98624719 0.05049651]\n",
            " [0.05049651 0.03079788]]\n"
          ],
          "name": "stdout"
        }
      ]
    },
    {
      "cell_type": "code",
      "metadata": {
        "id": "aOoXdbZXOHSb",
        "colab_type": "code",
        "colab": {
          "base_uri": "https://localhost:8080/",
          "height": 34
        },
        "outputId": "ac150585-5cb5-402e-fdb3-02ae27c4703b"
      },
      "source": [
        "########################################################################################################\n",
        "# Compute pearson correlation between 'overall' and 'polarity_score' columns\n",
        "########################################################################################################\n",
        "corr, _ = pearsonr(toyData['overall'], toyData['polarity_score'])\n",
        "print('Pearsons correlation between rating and polarity_score is: %.3f' % corr)"
      ],
      "execution_count": 8,
      "outputs": [
        {
          "output_type": "stream",
          "text": [
            "Pearsons correlation between rating and polarity_score is: 0.290\n"
          ],
          "name": "stdout"
        }
      ]
    },
    {
      "cell_type": "code",
      "metadata": {
        "id": "VSTxVkZfOQQb",
        "colab_type": "code",
        "colab": {
          "base_uri": "https://localhost:8080/",
          "height": 34
        },
        "outputId": "032aaf1a-0f9f-4593-a410-2847d8749908"
      },
      "source": [
        "########################################################################################################\n",
        "# Compute spearnmans correlation between 'overall' and 'polarity_score' columns\n",
        "########################################################################################################\n",
        "corr, _ = spearmanr(toyData['overall'], toyData['polarity_score'])\n",
        "print('Spearmans correlation between rating and polarity_score is: %.3f' % corr)"
      ],
      "execution_count": 9,
      "outputs": [
        {
          "output_type": "stream",
          "text": [
            "Spearmans correlation between rating and polarity_score is: 0.281\n"
          ],
          "name": "stdout"
        }
      ]
    },
    {
      "cell_type": "code",
      "metadata": {
        "id": "IANp-3V5ObrT",
        "colab_type": "code",
        "colab": {
          "base_uri": "https://localhost:8080/",
          "height": 280
        },
        "outputId": "7a353da0-bd9f-4557-a76b-bcb223fa5f1c"
      },
      "source": [
        "########################################################################################################\n",
        "# Visualize distplot of 'polarity_score' column\n",
        "########################################################################################################\n",
        "sns.distplot(toyData.polarity_score)\n",
        "plt.show()"
      ],
      "execution_count": 10,
      "outputs": [
        {
          "output_type": "display_data",
          "data": {
            "image/png": "[encoded data removed]",
            "text/plain": [
              "<Figure size 432x288 with 1 Axes>"
            ]
          },
          "metadata": {
            "tags": [],
            "needs_background": "light"
          }
        }
      ]
    },
    {
      "cell_type": "code",
      "metadata": {
        "id": "5BKg_TDBOo53",
        "colab_type": "code",
        "colab": {
          "base_uri": "https://localhost:8080/",
          "height": 441
        },
        "outputId": "630b78d0-d8ed-42f7-bd81-f0e3c6996546"
      },
      "source": [
        "########################################################################################################\n",
        "# Visualize jointplot of 'polarity_score' column again 'overall' column\n",
        "########################################################################################################\n",
        "sns.jointplot(data=toyData, x='overall', y='polarity_score', kind='reg', color='g')\n",
        "plt.show()"
      ],
      "execution_count": 11,
      "outputs": [
        {
          "output_type": "display_data",
          "data": {
            "image/png": "[encoded data removed]",
            "text/plain": [
              "<Figure size 432x432 with 3 Axes>"
            ]
          },
          "metadata": {
            "tags": [],
            "needs_background": "light"
          }
        }
      ]
    }
  ]
}