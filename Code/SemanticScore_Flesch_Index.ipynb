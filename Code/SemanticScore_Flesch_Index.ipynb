{
  "nbformat": 4,
  "nbformat_minor": 0,
  "metadata": {
    "colab": {
      "name": "SemanticScore_Flesch-Index.ipynb",
      "provenance": [],
      "collapsed_sections": []
    },
    "kernelspec": {
      "name": "python3",
      "display_name": "Python 3"
    }
  },
  "cells": [
    {
      "cell_type": "markdown",
      "metadata": {
        "id": "HWmonjmfRp_h",
        "colab_type": "text"
      },
      "source": [
        "<font color='green'>**IMPORT LIBRARIES**</font>"
      ]
    },
    {
      "cell_type": "code",
      "metadata": {
        "id": "N30905f97n0t",
        "colab_type": "code",
        "colab": {}
      },
      "source": [
        "########################################################################################################\n",
        "# IMPORT LIBRARIES\n",
        "########################################################################################################\n",
        "import numpy as np\n",
        "import pandas as pd"
      ],
      "execution_count": 0,
      "outputs": []
    },
    {
      "cell_type": "markdown",
      "metadata": {
        "id": "dt3BI2CgRsDT",
        "colab_type": "text"
      },
      "source": [
        "<font color='green'>**Read dataset obtained from previous step where subjectivity scores are calculated**</font>"
      ]
    },
    {
      "cell_type": "code",
      "metadata": {
        "id": "X6U2Og8I8qPJ",
        "colab_type": "code",
        "outputId": "58ebc61a-4e43-40e9-e082-25dd7dcf2330",
        "colab": {
          "base_uri": "https://localhost:8080/",
          "height": 279
        }
      },
      "source": [
        "########################################################################################################\n",
        "# Read dataset obtained from previous step where subjectivity scores are calculated\n",
        "########################################################################################################\n",
        "toy_data=pd.read_csv('Toys_and_Games.csv')\n",
        "toy_data.head(5)"
      ],
      "execution_count": 2,
      "outputs": [
        {
          "output_type": "execute_result",
          "data": {
            "text/html": [
              "<div>\n",
              "<style scoped>\n",
              "    .dataframe tbody tr th:only-of-type {\n",
              "        vertical-align: middle;\n",
              "    }\n",
              "\n",
              "    .dataframe tbody tr th {\n",
              "        vertical-align: top;\n",
              "    }\n",
              "\n",
              "    .dataframe thead th {\n",
              "        text-align: right;\n",
              "    }\n",
              "</style>\n",
              "<table border=\"1\" class=\"dataframe\">\n",
              "  <thead>\n",
              "    <tr style=\"text-align: right;\">\n",
              "      <th></th>\n",
              "      <th>asin</th>\n",
              "      <th>helpful</th>\n",
              "      <th>overall</th>\n",
              "      <th>reviewText</th>\n",
              "      <th>reviewTime</th>\n",
              "      <th>reviewerID</th>\n",
              "      <th>PreProcessed_reviewText</th>\n",
              "      <th>subjectivity_score</th>\n",
              "    </tr>\n",
              "  </thead>\n",
              "  <tbody>\n",
              "    <tr>\n",
              "      <th>0</th>\n",
              "      <td>439893577</td>\n",
              "      <td>[1, 1]</td>\n",
              "      <td>4</td>\n",
              "      <td>Love the magnet easel... great for moving to d...</td>\n",
              "      <td>03 28, 2014</td>\n",
              "      <td>A8R62G708TSCM</td>\n",
              "      <td>love the magnet easel great for moving to diff...</td>\n",
              "      <td>0.650000</td>\n",
              "    </tr>\n",
              "    <tr>\n",
              "      <th>1</th>\n",
              "      <td>439893577</td>\n",
              "      <td>[1, 1]</td>\n",
              "      <td>5</td>\n",
              "      <td>Both sides are magnetic.  A real plus when you...</td>\n",
              "      <td>01 28, 2013</td>\n",
              "      <td>A21KH420DK0ICA</td>\n",
              "      <td>both sides are magnetic  a real plus when your...</td>\n",
              "      <td>0.450000</td>\n",
              "    </tr>\n",
              "    <tr>\n",
              "      <th>2</th>\n",
              "      <td>439893577</td>\n",
              "      <td>[0, 0]</td>\n",
              "      <td>5</td>\n",
              "      <td>Bought one a few years ago for my daughter and...</td>\n",
              "      <td>02 8, 2014</td>\n",
              "      <td>AR29QK6HPFYZ4</td>\n",
              "      <td>bought one a few years ago for my daughter and...</td>\n",
              "      <td>0.450000</td>\n",
              "    </tr>\n",
              "    <tr>\n",
              "      <th>3</th>\n",
              "      <td>439893577</td>\n",
              "      <td>[1, 1]</td>\n",
              "      <td>4</td>\n",
              "      <td>I have a stainless steel refrigerator therefor...</td>\n",
              "      <td>05 5, 2014</td>\n",
              "      <td>ACCH8EOML6FN5</td>\n",
              "      <td>i have a stainless steel refrigerator therefor...</td>\n",
              "      <td>0.383333</td>\n",
              "    </tr>\n",
              "    <tr>\n",
              "      <th>4</th>\n",
              "      <td>439893577</td>\n",
              "      <td>[0, 0]</td>\n",
              "      <td>3</td>\n",
              "      <td>this is a nice magnetic board for the kids to ...</td>\n",
              "      <td>05 16, 2013</td>\n",
              "      <td>A1EDPGHC9EYBUN</td>\n",
              "      <td>this is a nice magnetic board for the kids to ...</td>\n",
              "      <td>1.000000</td>\n",
              "    </tr>\n",
              "  </tbody>\n",
              "</table>\n",
              "</div>"
            ],
            "text/plain": [
              "        asin  ... subjectivity_score\n",
              "0  439893577  ...           0.650000\n",
              "1  439893577  ...           0.450000\n",
              "2  439893577  ...           0.450000\n",
              "3  439893577  ...           0.383333\n",
              "4  439893577  ...           1.000000\n",
              "\n",
              "[5 rows x 8 columns]"
            ]
          },
          "metadata": {
            "tags": []
          },
          "execution_count": 2
        }
      ]
    },
    {
      "cell_type": "code",
      "metadata": {
        "id": "qpYosX_s-taF",
        "colab_type": "code",
        "colab": {}
      },
      "source": [
        "toy_data['PreProcessed_reviewText']=toy_data['PreProcessed_reviewText'].astype(str)"
      ],
      "execution_count": 0,
      "outputs": []
    },
    {
      "cell_type": "markdown",
      "metadata": {
        "id": "Z9zN56PYRyy-",
        "colab_type": "text"
      },
      "source": [
        "<font color='green'>**Add new column 'flesch_index' to dataframe**</font>"
      ]
    },
    {
      "cell_type": "code",
      "metadata": {
        "id": "8R4TGXxU-yh6",
        "colab_type": "code",
        "colab": {}
      },
      "source": [
        "########################################################################################################\n",
        "# Add new column 'flesch_index' to dataframe\n",
        "########################################################################################################\n",
        "toy_data['flesch_index']=0"
      ],
      "execution_count": 0,
      "outputs": []
    },
    {
      "cell_type": "markdown",
      "metadata": {
        "id": "U2K6CH5KR6ho",
        "colab_type": "text"
      },
      "source": [
        "<font color='green'>**Compute Flesch index for each review and store value in column 'flesch_index'**</font>"
      ]
    },
    {
      "cell_type": "code",
      "metadata": {
        "id": "eOHOEt_S-1uJ",
        "colab_type": "code",
        "colab": {
          "base_uri": "https://localhost:8080/",
          "height": 171
        },
        "outputId": "7d172135-3b06-4455-cae7-444db0a6e88e"
      },
      "source": [
        "pip install textstat"
      ],
      "execution_count": 5,
      "outputs": [
        {
          "output_type": "stream",
          "text": [
            "Collecting textstat\n",
            "\u001b[?25l  Downloading https://files.pythonhosted.org/packages/60/af/0623a6e3adbcfda0be827664eacab5e02cd0a08d36f00013cb53784917a9/textstat-0.6.2-py3-none-any.whl (102kB)\n",
            "\r\u001b[K     |███▏                            | 10kB 18.4MB/s eta 0:00:01\r\u001b[K     |██████▍                         | 20kB 6.1MB/s eta 0:00:01\r\u001b[K     |█████████▋                      | 30kB 8.4MB/s eta 0:00:01\r\u001b[K     |████████████▉                   | 40kB 10.6MB/s eta 0:00:01\r\u001b[K     |████████████████                | 51kB 7.0MB/s eta 0:00:01\r\u001b[K     |███████████████████▎            | 61kB 8.1MB/s eta 0:00:01\r\u001b[K     |██████████████████████▌         | 71kB 9.1MB/s eta 0:00:01\r\u001b[K     |█████████████████████████▋      | 81kB 10.1MB/s eta 0:00:01\r\u001b[K     |████████████████████████████▉   | 92kB 8.1MB/s eta 0:00:01\r\u001b[K     |████████████████████████████████| 102kB 5.9MB/s \n",
            "\u001b[?25hCollecting pyphen\n",
            "\u001b[?25l  Downloading https://files.pythonhosted.org/packages/15/82/08a3629dce8d1f3d91db843bb36d4d7db6b6269d5067259613a0d5c8a9db/Pyphen-0.9.5-py2.py3-none-any.whl (3.0MB)\n",
            "\u001b[K     |████████████████████████████████| 3.0MB 40.3MB/s \n",
            "\u001b[?25hInstalling collected packages: pyphen, textstat\n",
            "Successfully installed pyphen-0.9.5 textstat-0.6.2\n"
          ],
          "name": "stdout"
        }
      ]
    },
    {
      "cell_type": "code",
      "metadata": {
        "id": "nugKjlct-4i3",
        "colab_type": "code",
        "colab": {}
      },
      "source": [
        "########################################################################################################\n",
        "# Compute Flesch index for each review and store value in column 'flesch_index'\n",
        "########################################################################################################\n",
        "import textstat\n",
        "length=len(toy_data)\n",
        "for i in range(length):\n",
        "  review=toy_data.iloc[i,6]\n",
        "  fleschIndex=textstat.flesch_kincaid_grade(review)\n",
        "  toy_data.iloc[i,8]=fleschIndex"
      ],
      "execution_count": 0,
      "outputs": []
    },
    {
      "cell_type": "code",
      "metadata": {
        "id": "ZsfFl1RuH3mh",
        "colab_type": "code",
        "outputId": "24f8a559-a9f7-42f1-f3bf-2fe6ac851c8f",
        "colab": {
          "base_uri": "https://localhost:8080/",
          "height": 296
        }
      },
      "source": [
        "toy_data.head(5)"
      ],
      "execution_count": 7,
      "outputs": [
        {
          "output_type": "execute_result",
          "data": {
            "text/html": [
              "<div>\n",
              "<style scoped>\n",
              "    .dataframe tbody tr th:only-of-type {\n",
              "        vertical-align: middle;\n",
              "    }\n",
              "\n",
              "    .dataframe tbody tr th {\n",
              "        vertical-align: top;\n",
              "    }\n",
              "\n",
              "    .dataframe thead th {\n",
              "        text-align: right;\n",
              "    }\n",
              "</style>\n",
              "<table border=\"1\" class=\"dataframe\">\n",
              "  <thead>\n",
              "    <tr style=\"text-align: right;\">\n",
              "      <th></th>\n",
              "      <th>asin</th>\n",
              "      <th>helpful</th>\n",
              "      <th>overall</th>\n",
              "      <th>reviewText</th>\n",
              "      <th>reviewTime</th>\n",
              "      <th>reviewerID</th>\n",
              "      <th>PreProcessed_reviewText</th>\n",
              "      <th>subjectivity_score</th>\n",
              "      <th>flesch_index</th>\n",
              "    </tr>\n",
              "  </thead>\n",
              "  <tbody>\n",
              "    <tr>\n",
              "      <th>0</th>\n",
              "      <td>439893577</td>\n",
              "      <td>[1, 1]</td>\n",
              "      <td>4</td>\n",
              "      <td>Love the magnet easel... great for moving to d...</td>\n",
              "      <td>03 28, 2014</td>\n",
              "      <td>A8R62G708TSCM</td>\n",
              "      <td>love the magnet easel great for moving to diff...</td>\n",
              "      <td>0.650000</td>\n",
              "      <td>8.3</td>\n",
              "    </tr>\n",
              "    <tr>\n",
              "      <th>1</th>\n",
              "      <td>439893577</td>\n",
              "      <td>[1, 1]</td>\n",
              "      <td>5</td>\n",
              "      <td>Both sides are magnetic.  A real plus when you...</td>\n",
              "      <td>01 28, 2013</td>\n",
              "      <td>A21KH420DK0ICA</td>\n",
              "      <td>both sides are magnetic  a real plus when your...</td>\n",
              "      <td>0.450000</td>\n",
              "      <td>29.4</td>\n",
              "    </tr>\n",
              "    <tr>\n",
              "      <th>2</th>\n",
              "      <td>439893577</td>\n",
              "      <td>[0, 0]</td>\n",
              "      <td>5</td>\n",
              "      <td>Bought one a few years ago for my daughter and...</td>\n",
              "      <td>02 8, 2014</td>\n",
              "      <td>AR29QK6HPFYZ4</td>\n",
              "      <td>bought one a few years ago for my daughter and...</td>\n",
              "      <td>0.450000</td>\n",
              "      <td>10.7</td>\n",
              "    </tr>\n",
              "    <tr>\n",
              "      <th>3</th>\n",
              "      <td>439893577</td>\n",
              "      <td>[1, 1]</td>\n",
              "      <td>4</td>\n",
              "      <td>I have a stainless steel refrigerator therefor...</td>\n",
              "      <td>05 5, 2014</td>\n",
              "      <td>ACCH8EOML6FN5</td>\n",
              "      <td>i have a stainless steel refrigerator therefor...</td>\n",
              "      <td>0.383333</td>\n",
              "      <td>18.1</td>\n",
              "    </tr>\n",
              "    <tr>\n",
              "      <th>4</th>\n",
              "      <td>439893577</td>\n",
              "      <td>[0, 0]</td>\n",
              "      <td>3</td>\n",
              "      <td>this is a nice magnetic board for the kids to ...</td>\n",
              "      <td>05 16, 2013</td>\n",
              "      <td>A1EDPGHC9EYBUN</td>\n",
              "      <td>this is a nice magnetic board for the kids to ...</td>\n",
              "      <td>1.000000</td>\n",
              "      <td>14.6</td>\n",
              "    </tr>\n",
              "  </tbody>\n",
              "</table>\n",
              "</div>"
            ],
            "text/plain": [
              "        asin helpful  ...  subjectivity_score flesch_index\n",
              "0  439893577  [1, 1]  ...            0.650000          8.3\n",
              "1  439893577  [1, 1]  ...            0.450000         29.4\n",
              "2  439893577  [0, 0]  ...            0.450000         10.7\n",
              "3  439893577  [1, 1]  ...            0.383333         18.1\n",
              "4  439893577  [0, 0]  ...            1.000000         14.6\n",
              "\n",
              "[5 rows x 9 columns]"
            ]
          },
          "metadata": {
            "tags": []
          },
          "execution_count": 7
        }
      ]
    },
    {
      "cell_type": "markdown",
      "metadata": {
        "id": "2zLb2acvSK2S",
        "colab_type": "text"
      },
      "source": [
        "<font color='green'>**Save dataframe into same csv file so that new column will be added to it and can be used for further references**</font>"
      ]
    },
    {
      "cell_type": "code",
      "metadata": {
        "id": "_mF17unUL2yg",
        "colab_type": "code",
        "colab": {}
      },
      "source": [
        "########################################################################################################\n",
        "# Save dataframe into same csv file so that new column will be added to it and can be used for further references\n",
        "########################################################################################################\n",
        "toy_data.to_csv('Toys_and_Games.csv',index=False)"
      ],
      "execution_count": 0,
      "outputs": []
    },
    {
      "cell_type": "markdown",
      "metadata": {
        "id": "4b9D829bSYIl",
        "colab_type": "text"
      },
      "source": [
        "<font color='green'>**Check if all required columns are added to csv file**</font>"
      ]
    },
    {
      "cell_type": "code",
      "metadata": {
        "id": "5bpgrq32Mh9E",
        "colab_type": "code",
        "colab": {}
      },
      "source": [
        "########################################################################################################\n",
        "# Check if all required columns are added to csv file\n",
        "########################################################################################################\n",
        "df=pd.read_csv('Toys_and_Games.csv')"
      ],
      "execution_count": 0,
      "outputs": []
    },
    {
      "cell_type": "code",
      "metadata": {
        "id": "KufOGwVqMo-6",
        "colab_type": "code",
        "outputId": "c6eec285-6ce3-4b1e-ce2c-12939b6fc33a",
        "colab": {
          "base_uri": "https://localhost:8080/",
          "height": 186
        }
      },
      "source": [
        "df.head(3)"
      ],
      "execution_count": 10,
      "outputs": [
        {
          "output_type": "execute_result",
          "data": {
            "text/html": [
              "<div>\n",
              "<style scoped>\n",
              "    .dataframe tbody tr th:only-of-type {\n",
              "        vertical-align: middle;\n",
              "    }\n",
              "\n",
              "    .dataframe tbody tr th {\n",
              "        vertical-align: top;\n",
              "    }\n",
              "\n",
              "    .dataframe thead th {\n",
              "        text-align: right;\n",
              "    }\n",
              "</style>\n",
              "<table border=\"1\" class=\"dataframe\">\n",
              "  <thead>\n",
              "    <tr style=\"text-align: right;\">\n",
              "      <th></th>\n",
              "      <th>asin</th>\n",
              "      <th>helpful</th>\n",
              "      <th>overall</th>\n",
              "      <th>reviewText</th>\n",
              "      <th>reviewTime</th>\n",
              "      <th>reviewerID</th>\n",
              "      <th>PreProcessed_reviewText</th>\n",
              "      <th>subjectivity_score</th>\n",
              "      <th>flesch_index</th>\n",
              "    </tr>\n",
              "  </thead>\n",
              "  <tbody>\n",
              "    <tr>\n",
              "      <th>0</th>\n",
              "      <td>439893577</td>\n",
              "      <td>[1, 1]</td>\n",
              "      <td>4</td>\n",
              "      <td>Love the magnet easel... great for moving to d...</td>\n",
              "      <td>03 28, 2014</td>\n",
              "      <td>A8R62G708TSCM</td>\n",
              "      <td>love the magnet easel great for moving to diff...</td>\n",
              "      <td>0.65</td>\n",
              "      <td>8.3</td>\n",
              "    </tr>\n",
              "    <tr>\n",
              "      <th>1</th>\n",
              "      <td>439893577</td>\n",
              "      <td>[1, 1]</td>\n",
              "      <td>5</td>\n",
              "      <td>Both sides are magnetic.  A real plus when you...</td>\n",
              "      <td>01 28, 2013</td>\n",
              "      <td>A21KH420DK0ICA</td>\n",
              "      <td>both sides are magnetic  a real plus when your...</td>\n",
              "      <td>0.45</td>\n",
              "      <td>29.4</td>\n",
              "    </tr>\n",
              "    <tr>\n",
              "      <th>2</th>\n",
              "      <td>439893577</td>\n",
              "      <td>[0, 0]</td>\n",
              "      <td>5</td>\n",
              "      <td>Bought one a few years ago for my daughter and...</td>\n",
              "      <td>02 8, 2014</td>\n",
              "      <td>AR29QK6HPFYZ4</td>\n",
              "      <td>bought one a few years ago for my daughter and...</td>\n",
              "      <td>0.45</td>\n",
              "      <td>10.7</td>\n",
              "    </tr>\n",
              "  </tbody>\n",
              "</table>\n",
              "</div>"
            ],
            "text/plain": [
              "        asin helpful  ...  subjectivity_score flesch_index\n",
              "0  439893577  [1, 1]  ...                0.65          8.3\n",
              "1  439893577  [1, 1]  ...                0.45         29.4\n",
              "2  439893577  [0, 0]  ...                0.45         10.7\n",
              "\n",
              "[3 rows x 9 columns]"
            ]
          },
          "metadata": {
            "tags": []
          },
          "execution_count": 10
        }
      ]
    }
  ]
}