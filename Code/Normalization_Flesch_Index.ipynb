{
 "cells": [
  {
   "cell_type": "markdown",
   "metadata": {
    "colab_type": "text",
    "id": "UcFuyFX4A-k9"
   },
   "source": [
    "<font color='green'>**IMPORT LIBRARIES**</font>"
   ]
  },
  {
   "cell_type": "code",
   "execution_count": 1,
   "metadata": {
    "colab": {},
    "colab_type": "code",
    "id": "Ki-f6zbOYZIz"
   },
   "outputs": [],
   "source": [
    "########################################################################################################\n",
    "# IMPORT LIBRARIES\n",
    "########################################################################################################\n",
    "import pandas as pd\n",
    "import numpy as np"
   ]
  },
  {
   "cell_type": "markdown",
   "metadata": {
    "colab_type": "text",
    "id": "we_idvaHBIYf"
   },
   "source": [
    "<font color='green'>**Read dataset obtained from previous step where semantic scores are calculated**</font>"
   ]
  },
  {
   "cell_type": "code",
   "execution_count": 2,
   "metadata": {
    "colab": {},
    "colab_type": "code",
    "id": "Dfcc4t7KaaQ7"
   },
   "outputs": [],
   "source": [
    "########################################################################################################\n",
    "# Read dataset obtained from previous step where semantic scores are calculated\n",
    "########################################################################################################\n",
    "toyData=pd.read_csv(\"Toys_and_Games.csv\");"
   ]
  },
  {
   "cell_type": "code",
   "execution_count": 3,
   "metadata": {
    "colab": {
     "base_uri": "https://localhost:8080/",
     "height": 186
    },
    "colab_type": "code",
    "id": "cddNjRzndPX6",
    "outputId": "d1db7345-b673-477b-ddd2-7d83333c8ddc"
   },
   "outputs": [
    {
     "data": {
      "text/html": [
       "<div>\n",
       "<style scoped>\n",
       "    .dataframe tbody tr th:only-of-type {\n",
       "        vertical-align: middle;\n",
       "    }\n",
       "\n",
       "    .dataframe tbody tr th {\n",
       "        vertical-align: top;\n",
       "    }\n",
       "\n",
       "    .dataframe thead th {\n",
       "        text-align: right;\n",
       "    }\n",
       "</style>\n",
       "<table border=\"1\" class=\"dataframe\">\n",
       "  <thead>\n",
       "    <tr style=\"text-align: right;\">\n",
       "      <th></th>\n",
       "      <th>asin</th>\n",
       "      <th>helpful</th>\n",
       "      <th>overall</th>\n",
       "      <th>reviewText</th>\n",
       "      <th>reviewTime</th>\n",
       "      <th>reviewerID</th>\n",
       "      <th>PreProcessed_reviewText</th>\n",
       "      <th>subjectivity_score</th>\n",
       "      <th>flesch_index</th>\n",
       "      <th>polarity_score</th>\n",
       "      <th>entropy_score</th>\n",
       "      <th>DaleChall_Index</th>\n",
       "      <th>helpful_ratio</th>\n",
       "      <th>lex_diversity</th>\n",
       "    </tr>\n",
       "  </thead>\n",
       "  <tbody>\n",
       "    <tr>\n",
       "      <th>0</th>\n",
       "      <td>439893577</td>\n",
       "      <td>[1, 1]</td>\n",
       "      <td>4</td>\n",
       "      <td>Love the magnet easel... great for moving to d...</td>\n",
       "      <td>03 28, 2014</td>\n",
       "      <td>A8R62G708TSCM</td>\n",
       "      <td>love the magnet easel great for moving to diff...</td>\n",
       "      <td>0.65</td>\n",
       "      <td>8.3</td>\n",
       "      <td>0.433333</td>\n",
       "      <td>4.459432</td>\n",
       "      <td>7.588870</td>\n",
       "      <td>0.75</td>\n",
       "      <td>1.000000</td>\n",
       "    </tr>\n",
       "    <tr>\n",
       "      <th>1</th>\n",
       "      <td>439893577</td>\n",
       "      <td>[1, 1]</td>\n",
       "      <td>5</td>\n",
       "      <td>Both sides are magnetic.  A real plus when you...</td>\n",
       "      <td>01 28, 2013</td>\n",
       "      <td>A21KH420DK0ICA</td>\n",
       "      <td>both sides are magnetic  a real plus when your...</td>\n",
       "      <td>0.45</td>\n",
       "      <td>29.4</td>\n",
       "      <td>0.333333</td>\n",
       "      <td>5.497670</td>\n",
       "      <td>6.688048</td>\n",
       "      <td>0.20</td>\n",
       "      <td>0.684211</td>\n",
       "    </tr>\n",
       "    <tr>\n",
       "      <th>2</th>\n",
       "      <td>439893577</td>\n",
       "      <td>[0, 0]</td>\n",
       "      <td>5</td>\n",
       "      <td>Bought one a few years ago for my daughter and...</td>\n",
       "      <td>02 8, 2014</td>\n",
       "      <td>AR29QK6HPFYZ4</td>\n",
       "      <td>bought one a few years ago for my daughter and...</td>\n",
       "      <td>0.45</td>\n",
       "      <td>10.7</td>\n",
       "      <td>0.250000</td>\n",
       "      <td>4.389365</td>\n",
       "      <td>7.461429</td>\n",
       "      <td>0.50</td>\n",
       "      <td>0.741935</td>\n",
       "    </tr>\n",
       "  </tbody>\n",
       "</table>\n",
       "</div>"
      ],
      "text/plain": [
       "        asin helpful  overall  \\\n",
       "0  439893577  [1, 1]        4   \n",
       "1  439893577  [1, 1]        5   \n",
       "2  439893577  [0, 0]        5   \n",
       "\n",
       "                                          reviewText   reviewTime  \\\n",
       "0  Love the magnet easel... great for moving to d...  03 28, 2014   \n",
       "1  Both sides are magnetic.  A real plus when you...  01 28, 2013   \n",
       "2  Bought one a few years ago for my daughter and...   02 8, 2014   \n",
       "\n",
       "       reviewerID                            PreProcessed_reviewText  \\\n",
       "0   A8R62G708TSCM  love the magnet easel great for moving to diff...   \n",
       "1  A21KH420DK0ICA  both sides are magnetic  a real plus when your...   \n",
       "2   AR29QK6HPFYZ4  bought one a few years ago for my daughter and...   \n",
       "\n",
       "   subjectivity_score  flesch_index  polarity_score  entropy_score  \\\n",
       "0                0.65           8.3        0.433333       4.459432   \n",
       "1                0.45          29.4        0.333333       5.497670   \n",
       "2                0.45          10.7        0.250000       4.389365   \n",
       "\n",
       "   DaleChall_Index  helpful_ratio  lex_diversity  \n",
       "0         7.588870           0.75       1.000000  \n",
       "1         6.688048           0.20       0.684211  \n",
       "2         7.461429           0.50       0.741935  "
      ]
     },
     "execution_count": 3,
     "metadata": {},
     "output_type": "execute_result"
    }
   ],
   "source": [
    "toyData.head(3)"
   ]
  },
  {
   "cell_type": "markdown",
   "metadata": {},
   "source": [
    "<font color='green'>**Check minimum and maximum values of 'flesch_index'**</font>"
   ]
  },
  {
   "cell_type": "code",
   "execution_count": 4,
   "metadata": {
    "colab": {
     "base_uri": "https://localhost:8080/",
     "height": 34
    },
    "colab_type": "code",
    "id": "5tEpTq9Pdj0q",
    "outputId": "93977838-daf7-4c5f-a117-d446847fad3d"
   },
   "outputs": [
    {
     "name": "stdout",
     "output_type": "stream",
     "text": [
      "4.0\n"
     ]
    }
   ],
   "source": [
    "########################################################################################################\n",
    "# Check minimum and maximum values of 'flesch_index'\n",
    "########################################################################################################\n",
    "print(toyData['flesch_index'].min())"
   ]
  },
  {
   "cell_type": "code",
   "execution_count": 5,
   "metadata": {
    "colab": {
     "base_uri": "https://localhost:8080/",
     "height": 34
    },
    "colab_type": "code",
    "id": "4Ehb3XsednUk",
    "outputId": "53f8e56a-dbac-47c3-eaef-36aef8db3944"
   },
   "outputs": [
    {
     "name": "stdout",
     "output_type": "stream",
     "text": [
      "2137.4\n"
     ]
    }
   ],
   "source": [
    "print(toyData['flesch_index'].max())"
   ]
  },
  {
   "cell_type": "markdown",
   "metadata": {},
   "source": [
    "<font color='green'>**Since minimum and maximum value of 'flesch_index' are not 0 and 1 respectively, the 'flesch_index' needs to be computed in normalized format. Thus, we will perform following steps of normalization on it.**</font>"
   ]
  },
  {
   "cell_type": "markdown",
   "metadata": {
    "colab_type": "text",
    "id": "k2S6DzrlBaqb"
   },
   "source": [
    "<font color='green'>**Add new column 'normalized_Flesch_Index' to dataframe**</font>"
   ]
  },
  {
   "cell_type": "code",
   "execution_count": null,
   "metadata": {},
   "outputs": [],
   "source": [
    "########################################################################################################\n",
    "# Since minimum and maximum value of 'flesch_index' are not 0 and 1 respectively, the 'flesch_index'\n",
    "# needs to be computed in normalized format. Thus, we will perform following steps of normalization on it.\n",
    "########################################################################################################"
   ]
  },
  {
   "cell_type": "code",
   "execution_count": 6,
   "metadata": {
    "colab": {},
    "colab_type": "code",
    "id": "CsHlhuQ1eBhy"
   },
   "outputs": [],
   "source": [
    "########################################################################################################\n",
    "# Add new column 'normalized_Flesch_Index' to dataframe\n",
    "########################################################################################################\n",
    "toyData['normalized_Flesch_Index']=0"
   ]
  },
  {
   "cell_type": "markdown",
   "metadata": {
    "colab_type": "text",
    "id": "IssQF01hCmLe"
   },
   "source": [
    "<font color='green'>**Compute normalized flesch index for each review and store value in column 'normalized_Flesch_Index'**</font>"
   ]
  },
  {
   "cell_type": "code",
   "execution_count": 7,
   "metadata": {
    "colab": {},
    "colab_type": "code",
    "id": "0zzskQXReFRg"
   },
   "outputs": [],
   "source": [
    "length=len(toyData)\n",
    "minIndex=toyData['flesch_index'].min()\n",
    "maxIndex=toyData['flesch_index'].max()\n",
    "for i in range(length):\n",
    "  index=toyData.iloc[i,8]\n",
    "  normalizedIndex=(index-minIndex)/(maxIndex-minIndex)\n",
    "  toyData.iloc[i,14]=normalizedIndex"
   ]
  },
  {
   "cell_type": "code",
   "execution_count": 8,
   "metadata": {
    "colab": {
     "base_uri": "https://localhost:8080/",
     "height": 374
    },
    "colab_type": "code",
    "id": "BzI625LvfQ91",
    "outputId": "5bac943f-4722-4f08-9b49-43f82f2e41fa"
   },
   "outputs": [
    {
     "data": {
      "text/html": [
       "<div>\n",
       "<style scoped>\n",
       "    .dataframe tbody tr th:only-of-type {\n",
       "        vertical-align: middle;\n",
       "    }\n",
       "\n",
       "    .dataframe tbody tr th {\n",
       "        vertical-align: top;\n",
       "    }\n",
       "\n",
       "    .dataframe thead th {\n",
       "        text-align: right;\n",
       "    }\n",
       "</style>\n",
       "<table border=\"1\" class=\"dataframe\">\n",
       "  <thead>\n",
       "    <tr style=\"text-align: right;\">\n",
       "      <th></th>\n",
       "      <th>asin</th>\n",
       "      <th>helpful</th>\n",
       "      <th>overall</th>\n",
       "      <th>reviewText</th>\n",
       "      <th>reviewTime</th>\n",
       "      <th>reviewerID</th>\n",
       "      <th>PreProcessed_reviewText</th>\n",
       "      <th>subjectivity_score</th>\n",
       "      <th>flesch_index</th>\n",
       "      <th>polarity_score</th>\n",
       "      <th>entropy_score</th>\n",
       "      <th>DaleChall_Index</th>\n",
       "      <th>helpful_ratio</th>\n",
       "      <th>lex_diversity</th>\n",
       "      <th>normalized_Flesch_Index</th>\n",
       "    </tr>\n",
       "  </thead>\n",
       "  <tbody>\n",
       "    <tr>\n",
       "      <th>0</th>\n",
       "      <td>439893577</td>\n",
       "      <td>[1, 1]</td>\n",
       "      <td>4</td>\n",
       "      <td>Love the magnet easel... great for moving to d...</td>\n",
       "      <td>03 28, 2014</td>\n",
       "      <td>A8R62G708TSCM</td>\n",
       "      <td>love the magnet easel great for moving to diff...</td>\n",
       "      <td>0.65</td>\n",
       "      <td>8.3</td>\n",
       "      <td>0.433333</td>\n",
       "      <td>4.459432</td>\n",
       "      <td>7.588870</td>\n",
       "      <td>0.75</td>\n",
       "      <td>1.000000</td>\n",
       "      <td>0.002016</td>\n",
       "    </tr>\n",
       "    <tr>\n",
       "      <th>1</th>\n",
       "      <td>439893577</td>\n",
       "      <td>[1, 1]</td>\n",
       "      <td>5</td>\n",
       "      <td>Both sides are magnetic.  A real plus when you...</td>\n",
       "      <td>01 28, 2013</td>\n",
       "      <td>A21KH420DK0ICA</td>\n",
       "      <td>both sides are magnetic  a real plus when your...</td>\n",
       "      <td>0.45</td>\n",
       "      <td>29.4</td>\n",
       "      <td>0.333333</td>\n",
       "      <td>5.497670</td>\n",
       "      <td>6.688048</td>\n",
       "      <td>0.20</td>\n",
       "      <td>0.684211</td>\n",
       "      <td>0.011906</td>\n",
       "    </tr>\n",
       "    <tr>\n",
       "      <th>2</th>\n",
       "      <td>439893577</td>\n",
       "      <td>[0, 0]</td>\n",
       "      <td>5</td>\n",
       "      <td>Bought one a few years ago for my daughter and...</td>\n",
       "      <td>02 8, 2014</td>\n",
       "      <td>AR29QK6HPFYZ4</td>\n",
       "      <td>bought one a few years ago for my daughter and...</td>\n",
       "      <td>0.45</td>\n",
       "      <td>10.7</td>\n",
       "      <td>0.250000</td>\n",
       "      <td>4.389365</td>\n",
       "      <td>7.461429</td>\n",
       "      <td>0.50</td>\n",
       "      <td>0.741935</td>\n",
       "      <td>0.003141</td>\n",
       "    </tr>\n",
       "  </tbody>\n",
       "</table>\n",
       "</div>"
      ],
      "text/plain": [
       "        asin helpful  overall  \\\n",
       "0  439893577  [1, 1]        4   \n",
       "1  439893577  [1, 1]        5   \n",
       "2  439893577  [0, 0]        5   \n",
       "\n",
       "                                          reviewText   reviewTime  \\\n",
       "0  Love the magnet easel... great for moving to d...  03 28, 2014   \n",
       "1  Both sides are magnetic.  A real plus when you...  01 28, 2013   \n",
       "2  Bought one a few years ago for my daughter and...   02 8, 2014   \n",
       "\n",
       "       reviewerID                            PreProcessed_reviewText  \\\n",
       "0   A8R62G708TSCM  love the magnet easel great for moving to diff...   \n",
       "1  A21KH420DK0ICA  both sides are magnetic  a real plus when your...   \n",
       "2   AR29QK6HPFYZ4  bought one a few years ago for my daughter and...   \n",
       "\n",
       "   subjectivity_score  flesch_index  polarity_score  entropy_score  \\\n",
       "0                0.65           8.3        0.433333       4.459432   \n",
       "1                0.45          29.4        0.333333       5.497670   \n",
       "2                0.45          10.7        0.250000       4.389365   \n",
       "\n",
       "   DaleChall_Index  helpful_ratio  lex_diversity  normalized_Flesch_Index  \n",
       "0         7.588870           0.75       1.000000                 0.002016  \n",
       "1         6.688048           0.20       0.684211                 0.011906  \n",
       "2         7.461429           0.50       0.741935                 0.003141  "
      ]
     },
     "execution_count": 8,
     "metadata": {},
     "output_type": "execute_result"
    }
   ],
   "source": [
    "toyData.head(3)"
   ]
  },
  {
   "cell_type": "markdown",
   "metadata": {
    "colab_type": "text",
    "id": "hTP-yiGWCz81"
   },
   "source": [
    "<font color='green'>**Save dataframe into same csv file so that new column will be added to it and can be used for further references**</font>"
   ]
  },
  {
   "cell_type": "code",
   "execution_count": 11,
   "metadata": {
    "colab": {},
    "colab_type": "code",
    "id": "P02zjuI-CzQN"
   },
   "outputs": [],
   "source": [
    "########################################################################################################\n",
    "# Save dataframe into same csv file so that new column will be added to it and can be used for further references\n",
    "########################################################################################################\n",
    "toyData.to_csv('Toys_and_Games.csv',index=False)"
   ]
  },
  {
   "cell_type": "markdown",
   "metadata": {
    "colab_type": "text",
    "id": "wDlI3No8C6Oo"
   },
   "source": [
    "<font color='green'>**Check if all required columns are added to csv file**</font>"
   ]
  },
  {
   "cell_type": "code",
   "execution_count": 12,
   "metadata": {
    "colab": {},
    "colab_type": "code",
    "id": "cQgq6Si-C9HG"
   },
   "outputs": [
    {
     "data": {
      "text/html": [
       "<div>\n",
       "<style scoped>\n",
       "    .dataframe tbody tr th:only-of-type {\n",
       "        vertical-align: middle;\n",
       "    }\n",
       "\n",
       "    .dataframe tbody tr th {\n",
       "        vertical-align: top;\n",
       "    }\n",
       "\n",
       "    .dataframe thead th {\n",
       "        text-align: right;\n",
       "    }\n",
       "</style>\n",
       "<table border=\"1\" class=\"dataframe\">\n",
       "  <thead>\n",
       "    <tr style=\"text-align: right;\">\n",
       "      <th></th>\n",
       "      <th>asin</th>\n",
       "      <th>helpful</th>\n",
       "      <th>overall</th>\n",
       "      <th>reviewText</th>\n",
       "      <th>reviewTime</th>\n",
       "      <th>reviewerID</th>\n",
       "      <th>PreProcessed_reviewText</th>\n",
       "      <th>subjectivity_score</th>\n",
       "      <th>flesch_index</th>\n",
       "      <th>polarity_score</th>\n",
       "      <th>entropy_score</th>\n",
       "      <th>DaleChall_Index</th>\n",
       "      <th>helpful_ratio</th>\n",
       "      <th>lex_diversity</th>\n",
       "      <th>normalized_Flesch_Index</th>\n",
       "    </tr>\n",
       "  </thead>\n",
       "  <tbody>\n",
       "    <tr>\n",
       "      <th>0</th>\n",
       "      <td>439893577</td>\n",
       "      <td>[1, 1]</td>\n",
       "      <td>4</td>\n",
       "      <td>Love the magnet easel... great for moving to d...</td>\n",
       "      <td>03 28, 2014</td>\n",
       "      <td>A8R62G708TSCM</td>\n",
       "      <td>love the magnet easel great for moving to diff...</td>\n",
       "      <td>0.65</td>\n",
       "      <td>8.3</td>\n",
       "      <td>0.433333</td>\n",
       "      <td>4.459432</td>\n",
       "      <td>7.588870</td>\n",
       "      <td>0.75</td>\n",
       "      <td>1.000000</td>\n",
       "      <td>0.002016</td>\n",
       "    </tr>\n",
       "    <tr>\n",
       "      <th>1</th>\n",
       "      <td>439893577</td>\n",
       "      <td>[1, 1]</td>\n",
       "      <td>5</td>\n",
       "      <td>Both sides are magnetic.  A real plus when you...</td>\n",
       "      <td>01 28, 2013</td>\n",
       "      <td>A21KH420DK0ICA</td>\n",
       "      <td>both sides are magnetic  a real plus when your...</td>\n",
       "      <td>0.45</td>\n",
       "      <td>29.4</td>\n",
       "      <td>0.333333</td>\n",
       "      <td>5.497670</td>\n",
       "      <td>6.688048</td>\n",
       "      <td>0.20</td>\n",
       "      <td>0.684211</td>\n",
       "      <td>0.011906</td>\n",
       "    </tr>\n",
       "    <tr>\n",
       "      <th>2</th>\n",
       "      <td>439893577</td>\n",
       "      <td>[0, 0]</td>\n",
       "      <td>5</td>\n",
       "      <td>Bought one a few years ago for my daughter and...</td>\n",
       "      <td>02 8, 2014</td>\n",
       "      <td>AR29QK6HPFYZ4</td>\n",
       "      <td>bought one a few years ago for my daughter and...</td>\n",
       "      <td>0.45</td>\n",
       "      <td>10.7</td>\n",
       "      <td>0.250000</td>\n",
       "      <td>4.389365</td>\n",
       "      <td>7.461429</td>\n",
       "      <td>0.50</td>\n",
       "      <td>0.741935</td>\n",
       "      <td>0.003141</td>\n",
       "    </tr>\n",
       "  </tbody>\n",
       "</table>\n",
       "</div>"
      ],
      "text/plain": [
       "        asin helpful  overall  \\\n",
       "0  439893577  [1, 1]        4   \n",
       "1  439893577  [1, 1]        5   \n",
       "2  439893577  [0, 0]        5   \n",
       "\n",
       "                                          reviewText   reviewTime  \\\n",
       "0  Love the magnet easel... great for moving to d...  03 28, 2014   \n",
       "1  Both sides are magnetic.  A real plus when you...  01 28, 2013   \n",
       "2  Bought one a few years ago for my daughter and...   02 8, 2014   \n",
       "\n",
       "       reviewerID                            PreProcessed_reviewText  \\\n",
       "0   A8R62G708TSCM  love the magnet easel great for moving to diff...   \n",
       "1  A21KH420DK0ICA  both sides are magnetic  a real plus when your...   \n",
       "2   AR29QK6HPFYZ4  bought one a few years ago for my daughter and...   \n",
       "\n",
       "   subjectivity_score  flesch_index  polarity_score  entropy_score  \\\n",
       "0                0.65           8.3        0.433333       4.459432   \n",
       "1                0.45          29.4        0.333333       5.497670   \n",
       "2                0.45          10.7        0.250000       4.389365   \n",
       "\n",
       "   DaleChall_Index  helpful_ratio  lex_diversity  normalized_Flesch_Index  \n",
       "0         7.588870           0.75       1.000000                 0.002016  \n",
       "1         6.688048           0.20       0.684211                 0.011906  \n",
       "2         7.461429           0.50       0.741935                 0.003141  "
      ]
     },
     "execution_count": 12,
     "metadata": {},
     "output_type": "execute_result"
    }
   ],
   "source": [
    "########################################################################################################\n",
    "# Check if all required columns are added to csv file\n",
    "########################################################################################################\n",
    "df=pd.read_csv('Toys_and_Games.csv')\n",
    "df.head(3)"
   ]
  }
 ],
 "metadata": {
  "colab": {
   "collapsed_sections": [],
   "name": "Normalization_Flesch_Index.ipynb",
   "provenance": []
  },
  "kernelspec": {
   "display_name": "Python 3",
   "language": "python",
   "name": "python3"
  },
  "language_info": {
   "codemirror_mode": {
    "name": "ipython",
    "version": 3
   },
   "file_extension": ".py",
   "mimetype": "text/x-python",
   "name": "python",
   "nbconvert_exporter": "python",
   "pygments_lexer": "ipython3",
   "version": "3.7.1"
  }
 },
 "nbformat": 4,
 "nbformat_minor": 1
}
